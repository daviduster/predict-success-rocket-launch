{
 "metadata": {
  "language_info": {
   "codemirror_mode": {
    "name": "ipython",
    "version": 3
   },
   "file_extension": ".py",
   "mimetype": "text/x-python",
   "name": "python",
   "nbconvert_exporter": "python",
   "pygments_lexer": "ipython3",
   "version": "3.8.3-final"
  },
  "orig_nbformat": 2,
  "kernelspec": {
   "name": "python3",
   "display_name": "Python 3",
   "language": "python"
  }
 },
 "nbformat": 4,
 "nbformat_minor": 2,
 "cells": [
  {
   "source": [
    "# Predict rocket launch with machine learning"
   ],
   "cell_type": "markdown",
   "metadata": {}
  },
  {
   "source": [
    "Let’s use artificial intelligence and machine learning to discover weather patterns on days when rocket launches did successfully happen!"
   ],
   "cell_type": "markdown",
   "metadata": {}
  },
  {
   "source": [
    "## Collect data\n",
    "\n"
   ],
   "cell_type": "markdown",
   "metadata": {}
  },
  {
   "source": [
    "The first step in any data science or machine learning solution is to collect and understand the data. We collected publicly available data from [NOAA](https://www.noaa.gov/) and [Weather Underground](https://www.wunderground.com/history) for the dates of NASA rocket launches taken from the [list of NASA missions Wikipedia page](https://wikipedia.org/wiki/List_of_NASA_missions). "
   ],
   "cell_type": "markdown",
   "metadata": {}
  },
  {
   "source": [
    "### Import libraries"
   ],
   "cell_type": "markdown",
   "metadata": {}
  },
  {
   "source": [
    "We can now import the libraries. They'll help us import and clean the weather data, and create and test the machine learning model."
   ],
   "cell_type": "markdown",
   "metadata": {}
  },
  {
   "cell_type": "code",
   "execution_count": 1,
   "metadata": {},
   "outputs": [],
   "source": [
    "# Pandas library is used for handling tabular data\n",
    "import pandas as pd\n",
    "# NumPy is used for handling numerical series operations (addition, multiplication, and ...)\n",
    "import numpy as np\n",
    "\n",
    "# Sklearn's preprocessing library is used for processing and cleaning the data \n",
    "from sklearn import preprocessing"
   ]
  },
  {
   "source": [
    "### Read data into a variable"
   ],
   "cell_type": "markdown",
   "metadata": {}
  },
  {
   "source": [
    "Now that we have all of the libraries imported, we can use the pandas library to import our data. Use the command <code>pd.read_excel</code> to read the data and save it in a variable. Then, use the <code>.head() </code>function to print out the first five rows of the data. This will ensure that we have read everything correctly."
   ],
   "cell_type": "markdown",
   "metadata": {}
  },
  {
   "cell_type": "code",
   "execution_count": 2,
   "metadata": {},
   "outputs": [
    {
     "output_type": "execute_result",
     "data": {
      "text/plain": [
       "        Name       Date Time (East Coast)        Location Crewed or Uncrewed  \\\n",
       "0        NaN 1958-12-04               NaN  Cape Canaveral                NaN   \n",
       "1        NaN 1958-12-05               NaN  Cape Canaveral                NaN   \n",
       "2  Pioneer 3 1958-12-06          01:45:00  Cape Canaveral           Uncrewed   \n",
       "3        NaN 1958-12-07               NaN  Cape Canaveral                NaN   \n",
       "4        NaN 1958-12-08               NaN  Cape Canaveral                NaN   \n",
       "\n",
       "  Launched?  High Temp  Low Temp  Ave Temp  Temp at Launch Time  ...  \\\n",
       "0       NaN       75.0      68.0     71.00                  NaN  ...   \n",
       "1       NaN       78.0      70.0     73.39                  NaN  ...   \n",
       "2         Y       73.0       0.0     60.21                 62.0  ...   \n",
       "3       NaN       76.0      57.0     66.04                  NaN  ...   \n",
       "4       NaN       79.0      60.0     70.52                  NaN  ...   \n",
       "\n",
       "   Max Wind Speed  Visibility  Wind Speed at Launch Time  \\\n",
       "0            16.0        15.0                        NaN   \n",
       "1            14.0        10.0                        NaN   \n",
       "2            15.0        10.0                       11.0   \n",
       "3            10.0        10.0                        NaN   \n",
       "4            12.0        10.0                        NaN   \n",
       "\n",
       "   Hist Ave Max Wind Speed  Hist Ave Visibility Sea Level Pressure  \\\n",
       "0                      NaN                  NaN              30.22   \n",
       "1                      NaN                  NaN               30.2   \n",
       "2                      NaN                  NaN              30.25   \n",
       "3                      NaN                  NaN              30.28   \n",
       "4                      NaN                  NaN              30.23   \n",
       "\n",
       "   Hist Ave Sea Level Pressure  Day Length      Condition  Notes  \n",
       "0                          NaN    10:26:00         Cloudy    NaN  \n",
       "1                          NaN    10:26:00         Cloudy    NaN  \n",
       "2                          NaN    10:25:00         Cloudy    NaN  \n",
       "3                          NaN    10:25:00  Partly Cloudy    NaN  \n",
       "4                          NaN    12:24:00  Partly Cloudy    NaN  \n",
       "\n",
       "[5 rows x 26 columns]"
      ],
      "text/html": "<div>\n<style scoped>\n    .dataframe tbody tr th:only-of-type {\n        vertical-align: middle;\n    }\n\n    .dataframe tbody tr th {\n        vertical-align: top;\n    }\n\n    .dataframe thead th {\n        text-align: right;\n    }\n</style>\n<table border=\"1\" class=\"dataframe\">\n  <thead>\n    <tr style=\"text-align: right;\">\n      <th></th>\n      <th>Name</th>\n      <th>Date</th>\n      <th>Time (East Coast)</th>\n      <th>Location</th>\n      <th>Crewed or Uncrewed</th>\n      <th>Launched?</th>\n      <th>High Temp</th>\n      <th>Low Temp</th>\n      <th>Ave Temp</th>\n      <th>Temp at Launch Time</th>\n      <th>...</th>\n      <th>Max Wind Speed</th>\n      <th>Visibility</th>\n      <th>Wind Speed at Launch Time</th>\n      <th>Hist Ave Max Wind Speed</th>\n      <th>Hist Ave Visibility</th>\n      <th>Sea Level Pressure</th>\n      <th>Hist Ave Sea Level Pressure</th>\n      <th>Day Length</th>\n      <th>Condition</th>\n      <th>Notes</th>\n    </tr>\n  </thead>\n  <tbody>\n    <tr>\n      <th>0</th>\n      <td>NaN</td>\n      <td>1958-12-04</td>\n      <td>NaN</td>\n      <td>Cape Canaveral</td>\n      <td>NaN</td>\n      <td>NaN</td>\n      <td>75.0</td>\n      <td>68.0</td>\n      <td>71.00</td>\n      <td>NaN</td>\n      <td>...</td>\n      <td>16.0</td>\n      <td>15.0</td>\n      <td>NaN</td>\n      <td>NaN</td>\n      <td>NaN</td>\n      <td>30.22</td>\n      <td>NaN</td>\n      <td>10:26:00</td>\n      <td>Cloudy</td>\n      <td>NaN</td>\n    </tr>\n    <tr>\n      <th>1</th>\n      <td>NaN</td>\n      <td>1958-12-05</td>\n      <td>NaN</td>\n      <td>Cape Canaveral</td>\n      <td>NaN</td>\n      <td>NaN</td>\n      <td>78.0</td>\n      <td>70.0</td>\n      <td>73.39</td>\n      <td>NaN</td>\n      <td>...</td>\n      <td>14.0</td>\n      <td>10.0</td>\n      <td>NaN</td>\n      <td>NaN</td>\n      <td>NaN</td>\n      <td>30.2</td>\n      <td>NaN</td>\n      <td>10:26:00</td>\n      <td>Cloudy</td>\n      <td>NaN</td>\n    </tr>\n    <tr>\n      <th>2</th>\n      <td>Pioneer 3</td>\n      <td>1958-12-06</td>\n      <td>01:45:00</td>\n      <td>Cape Canaveral</td>\n      <td>Uncrewed</td>\n      <td>Y</td>\n      <td>73.0</td>\n      <td>0.0</td>\n      <td>60.21</td>\n      <td>62.0</td>\n      <td>...</td>\n      <td>15.0</td>\n      <td>10.0</td>\n      <td>11.0</td>\n      <td>NaN</td>\n      <td>NaN</td>\n      <td>30.25</td>\n      <td>NaN</td>\n      <td>10:25:00</td>\n      <td>Cloudy</td>\n      <td>NaN</td>\n    </tr>\n    <tr>\n      <th>3</th>\n      <td>NaN</td>\n      <td>1958-12-07</td>\n      <td>NaN</td>\n      <td>Cape Canaveral</td>\n      <td>NaN</td>\n      <td>NaN</td>\n      <td>76.0</td>\n      <td>57.0</td>\n      <td>66.04</td>\n      <td>NaN</td>\n      <td>...</td>\n      <td>10.0</td>\n      <td>10.0</td>\n      <td>NaN</td>\n      <td>NaN</td>\n      <td>NaN</td>\n      <td>30.28</td>\n      <td>NaN</td>\n      <td>10:25:00</td>\n      <td>Partly Cloudy</td>\n      <td>NaN</td>\n    </tr>\n    <tr>\n      <th>4</th>\n      <td>NaN</td>\n      <td>1958-12-08</td>\n      <td>NaN</td>\n      <td>Cape Canaveral</td>\n      <td>NaN</td>\n      <td>NaN</td>\n      <td>79.0</td>\n      <td>60.0</td>\n      <td>70.52</td>\n      <td>NaN</td>\n      <td>...</td>\n      <td>12.0</td>\n      <td>10.0</td>\n      <td>NaN</td>\n      <td>NaN</td>\n      <td>NaN</td>\n      <td>30.23</td>\n      <td>NaN</td>\n      <td>12:24:00</td>\n      <td>Partly Cloudy</td>\n      <td>NaN</td>\n    </tr>\n  </tbody>\n</table>\n<p>5 rows × 26 columns</p>\n</div>"
     },
     "metadata": {},
     "execution_count": 2
    }
   ],
   "source": [
    "launch_data = pd.read_excel('RocketLaunchDataCompleted.xlsx')\n",
    "launch_data.head()"
   ]
  },
  {
   "source": [
    "### Exploring data\n",
    "We can use the <code>.columns</code> function call to view all of the columns in our data. This will show us the attributes that the data has. You'll see some common attributes like names of past rockets that were scheduled to launch, the dates they were scheduled, if they actually launched, and many more. Look at these columns and try to guess which ones will have the greatest impact on determining if a rocket will launch."
   ],
   "cell_type": "markdown",
   "metadata": {}
  },
  {
   "cell_type": "code",
   "execution_count": 3,
   "metadata": {},
   "outputs": [
    {
     "output_type": "execute_result",
     "data": {
      "text/plain": [
       "Index(['Name', 'Date', 'Time (East Coast)', 'Location', 'Crewed or Uncrewed',\n",
       "       'Launched?', 'High Temp', 'Low Temp', 'Ave Temp', 'Temp at Launch Time',\n",
       "       'Hist High Temp', 'Hist Low Temp', 'Hist Ave Temp',\n",
       "       'Percipitation at Launch Time', 'Hist Ave Percipitation',\n",
       "       'Wind Direction', 'Max Wind Speed', 'Visibility',\n",
       "       'Wind Speed at Launch Time', 'Hist Ave Max Wind Speed',\n",
       "       'Hist Ave Visibility', 'Sea Level Pressure',\n",
       "       'Hist Ave Sea Level Pressure', 'Day Length', 'Condition', 'Notes'],\n",
       "      dtype='object')"
      ]
     },
     "metadata": {},
     "execution_count": 3
    }
   ],
   "source": [
    "launch_data.columns"
   ]
  },
  {
   "source": [
    "### Data cleaning\n",
    "Now that we have the data imported, we need to apply a machine learning practice known as \"cleaning the data.\" This means taking data that looks incorrect or messy and cleaning it up by changing the value or deleting it altogether. Common examples of cleaning data are ensuring that there are no null values and making every value in a column look the same. Let's get an overview of the launch data."
   ],
   "cell_type": "markdown",
   "metadata": {}
  },
  {
   "cell_type": "code",
   "execution_count": 4,
   "metadata": {},
   "outputs": [
    {
     "output_type": "stream",
     "name": "stdout",
     "text": [
      "<class 'pandas.core.frame.DataFrame'>\nRangeIndex: 300 entries, 0 to 299\nData columns (total 26 columns):\n #   Column                        Non-Null Count  Dtype         \n---  ------                        --------------  -----         \n 0   Name                          60 non-null     object        \n 1   Date                          300 non-null    datetime64[ns]\n 2   Time (East Coast)             59 non-null     object        \n 3   Location                      300 non-null    object        \n 4   Crewed or Uncrewed            60 non-null     object        \n 5   Launched?                     60 non-null     object        \n 6   High Temp                     299 non-null    float64       \n 7   Low Temp                      299 non-null    float64       \n 8   Ave Temp                      299 non-null    float64       \n 9   Temp at Launch Time           59 non-null     float64       \n 10  Hist High Temp                299 non-null    float64       \n 11  Hist Low Temp                 299 non-null    float64       \n 12  Hist Ave Temp                 299 non-null    float64       \n 13  Percipitation at Launch Time  299 non-null    float64       \n 14  Hist Ave Percipitation        299 non-null    float64       \n 15  Wind Direction                299 non-null    object        \n 16  Max Wind Speed                299 non-null    float64       \n 17  Visibility                    299 non-null    float64       \n 18  Wind Speed at Launch Time     59 non-null     float64       \n 19  Hist Ave Max Wind Speed       0 non-null      float64       \n 20  Hist Ave Visibility           0 non-null      float64       \n 21  Sea Level Pressure            299 non-null    object        \n 22  Hist Ave Sea Level Pressure   0 non-null      float64       \n 23  Day Length                    298 non-null    object        \n 24  Condition                     298 non-null    object        \n 25  Notes                         3 non-null      object        \ndtypes: datetime64[ns](1), float64(15), object(10)\nmemory usage: 61.1+ KB\n"
     ]
    }
   ],
   "source": [
    "launch_data.info()"
   ]
  },
  {
   "cell_type": "code",
   "execution_count": 5,
   "metadata": {},
   "outputs": [
    {
     "output_type": "execute_result",
     "data": {
      "text/plain": [
       "Name                            240\n",
       "Date                              0\n",
       "Time (East Coast)               241\n",
       "Location                          0\n",
       "Crewed or Uncrewed              240\n",
       "Launched?                       240\n",
       "High Temp                         1\n",
       "Low Temp                          1\n",
       "Ave Temp                          1\n",
       "Temp at Launch Time             241\n",
       "Hist High Temp                    1\n",
       "Hist Low Temp                     1\n",
       "Hist Ave Temp                     1\n",
       "Percipitation at Launch Time      1\n",
       "Hist Ave Percipitation            1\n",
       "Wind Direction                    1\n",
       "Max Wind Speed                    1\n",
       "Visibility                        1\n",
       "Wind Speed at Launch Time       241\n",
       "Hist Ave Max Wind Speed         300\n",
       "Hist Ave Visibility             300\n",
       "Sea Level Pressure                1\n",
       "Hist Ave Sea Level Pressure     300\n",
       "Day Length                        2\n",
       "Condition                         2\n",
       "Notes                           297\n",
       "dtype: int64"
      ]
     },
     "metadata": {},
     "execution_count": 5
    }
   ],
   "source": [
    "# count the number of nan values in each column\n",
    "launch_data.isnull().sum()"
   ]
  },
  {
   "source": [
    "We can see that <strong>Hist Ave Max Wind Speed</strong>, <strong>Hist Ave Visibility</strong>, and <strong>Hist Ave Sea Level Pressure</strong> have no data.\n",
    "\n",
    "It makes sense that <strong>Wind Speed at Launch Time</strong>, <strong>Temp at Launch Time</strong>, <strong>Launched</strong>, <strong>Crewed or Uncrewed</strong>, <strong>Time</strong>, and <strong>Name</strong> have only 60 values, because the data includes only 60 launches. The rest are the days before and after the launch."
   ],
   "cell_type": "markdown",
   "metadata": {}
  },
  {
   "source": [
    "Some ways to clean the data:\n",
    "* The rows that don't have <code>Y</code> in the <code>Launched</code> column did not have a rocket launch, so make those missing values <code>N</code>.\n",
    "* For rows missing information on whether the rocket was crewed or uncrewed, assume uncrewed. Uncrewed is more likely because there were fewer crewed missions.\n",
    "* For missing wind direction, mark it as <code>unknown</code>.\n",
    "* For missing condition data, assume it was a typical day and use <code>fair</code>.\n",
    "* For any other data, use a value of <code>0</code>.\n"
   ],
   "cell_type": "markdown",
   "metadata": {}
  },
  {
   "cell_type": "code",
   "execution_count": 6,
   "metadata": {},
   "outputs": [
    {
     "output_type": "execute_result",
     "data": {
      "text/plain": [
       "        Name       Date Time (East Coast)        Location Crewed or Uncrewed  \\\n",
       "0          0 1958-12-04                 0  Cape Canaveral           Uncrewed   \n",
       "1          0 1958-12-05                 0  Cape Canaveral           Uncrewed   \n",
       "2  Pioneer 3 1958-12-06          01:45:00  Cape Canaveral           Uncrewed   \n",
       "3          0 1958-12-07                 0  Cape Canaveral           Uncrewed   \n",
       "4          0 1958-12-08                 0  Cape Canaveral           Uncrewed   \n",
       "\n",
       "  Launched?  High Temp  Low Temp  Ave Temp  Temp at Launch Time  ...  \\\n",
       "0         N       75.0      68.0     71.00                  0.0  ...   \n",
       "1         N       78.0      70.0     73.39                  0.0  ...   \n",
       "2         Y       73.0       0.0     60.21                 62.0  ...   \n",
       "3         N       76.0      57.0     66.04                  0.0  ...   \n",
       "4         N       79.0      60.0     70.52                  0.0  ...   \n",
       "\n",
       "   Max Wind Speed  Visibility  Wind Speed at Launch Time  \\\n",
       "0            16.0        15.0                        0.0   \n",
       "1            14.0        10.0                        0.0   \n",
       "2            15.0        10.0                       11.0   \n",
       "3            10.0        10.0                        0.0   \n",
       "4            12.0        10.0                        0.0   \n",
       "\n",
       "   Hist Ave Max Wind Speed  Hist Ave Visibility Sea Level Pressure  \\\n",
       "0                      0.0                  0.0              30.22   \n",
       "1                      0.0                  0.0               30.2   \n",
       "2                      0.0                  0.0              30.25   \n",
       "3                      0.0                  0.0              30.28   \n",
       "4                      0.0                  0.0              30.23   \n",
       "\n",
       "   Hist Ave Sea Level Pressure  Day Length      Condition  Notes  \n",
       "0                          0.0    10:26:00         Cloudy      0  \n",
       "1                          0.0    10:26:00         Cloudy      0  \n",
       "2                          0.0    10:25:00         Cloudy      0  \n",
       "3                          0.0    10:25:00  Partly Cloudy      0  \n",
       "4                          0.0    12:24:00  Partly Cloudy      0  \n",
       "\n",
       "[5 rows x 26 columns]"
      ],
      "text/html": "<div>\n<style scoped>\n    .dataframe tbody tr th:only-of-type {\n        vertical-align: middle;\n    }\n\n    .dataframe tbody tr th {\n        vertical-align: top;\n    }\n\n    .dataframe thead th {\n        text-align: right;\n    }\n</style>\n<table border=\"1\" class=\"dataframe\">\n  <thead>\n    <tr style=\"text-align: right;\">\n      <th></th>\n      <th>Name</th>\n      <th>Date</th>\n      <th>Time (East Coast)</th>\n      <th>Location</th>\n      <th>Crewed or Uncrewed</th>\n      <th>Launched?</th>\n      <th>High Temp</th>\n      <th>Low Temp</th>\n      <th>Ave Temp</th>\n      <th>Temp at Launch Time</th>\n      <th>...</th>\n      <th>Max Wind Speed</th>\n      <th>Visibility</th>\n      <th>Wind Speed at Launch Time</th>\n      <th>Hist Ave Max Wind Speed</th>\n      <th>Hist Ave Visibility</th>\n      <th>Sea Level Pressure</th>\n      <th>Hist Ave Sea Level Pressure</th>\n      <th>Day Length</th>\n      <th>Condition</th>\n      <th>Notes</th>\n    </tr>\n  </thead>\n  <tbody>\n    <tr>\n      <th>0</th>\n      <td>0</td>\n      <td>1958-12-04</td>\n      <td>0</td>\n      <td>Cape Canaveral</td>\n      <td>Uncrewed</td>\n      <td>N</td>\n      <td>75.0</td>\n      <td>68.0</td>\n      <td>71.00</td>\n      <td>0.0</td>\n      <td>...</td>\n      <td>16.0</td>\n      <td>15.0</td>\n      <td>0.0</td>\n      <td>0.0</td>\n      <td>0.0</td>\n      <td>30.22</td>\n      <td>0.0</td>\n      <td>10:26:00</td>\n      <td>Cloudy</td>\n      <td>0</td>\n    </tr>\n    <tr>\n      <th>1</th>\n      <td>0</td>\n      <td>1958-12-05</td>\n      <td>0</td>\n      <td>Cape Canaveral</td>\n      <td>Uncrewed</td>\n      <td>N</td>\n      <td>78.0</td>\n      <td>70.0</td>\n      <td>73.39</td>\n      <td>0.0</td>\n      <td>...</td>\n      <td>14.0</td>\n      <td>10.0</td>\n      <td>0.0</td>\n      <td>0.0</td>\n      <td>0.0</td>\n      <td>30.2</td>\n      <td>0.0</td>\n      <td>10:26:00</td>\n      <td>Cloudy</td>\n      <td>0</td>\n    </tr>\n    <tr>\n      <th>2</th>\n      <td>Pioneer 3</td>\n      <td>1958-12-06</td>\n      <td>01:45:00</td>\n      <td>Cape Canaveral</td>\n      <td>Uncrewed</td>\n      <td>Y</td>\n      <td>73.0</td>\n      <td>0.0</td>\n      <td>60.21</td>\n      <td>62.0</td>\n      <td>...</td>\n      <td>15.0</td>\n      <td>10.0</td>\n      <td>11.0</td>\n      <td>0.0</td>\n      <td>0.0</td>\n      <td>30.25</td>\n      <td>0.0</td>\n      <td>10:25:00</td>\n      <td>Cloudy</td>\n      <td>0</td>\n    </tr>\n    <tr>\n      <th>3</th>\n      <td>0</td>\n      <td>1958-12-07</td>\n      <td>0</td>\n      <td>Cape Canaveral</td>\n      <td>Uncrewed</td>\n      <td>N</td>\n      <td>76.0</td>\n      <td>57.0</td>\n      <td>66.04</td>\n      <td>0.0</td>\n      <td>...</td>\n      <td>10.0</td>\n      <td>10.0</td>\n      <td>0.0</td>\n      <td>0.0</td>\n      <td>0.0</td>\n      <td>30.28</td>\n      <td>0.0</td>\n      <td>10:25:00</td>\n      <td>Partly Cloudy</td>\n      <td>0</td>\n    </tr>\n    <tr>\n      <th>4</th>\n      <td>0</td>\n      <td>1958-12-08</td>\n      <td>0</td>\n      <td>Cape Canaveral</td>\n      <td>Uncrewed</td>\n      <td>N</td>\n      <td>79.0</td>\n      <td>60.0</td>\n      <td>70.52</td>\n      <td>0.0</td>\n      <td>...</td>\n      <td>12.0</td>\n      <td>10.0</td>\n      <td>0.0</td>\n      <td>0.0</td>\n      <td>0.0</td>\n      <td>30.23</td>\n      <td>0.0</td>\n      <td>12:24:00</td>\n      <td>Partly Cloudy</td>\n      <td>0</td>\n    </tr>\n  </tbody>\n</table>\n<p>5 rows × 26 columns</p>\n</div>"
     },
     "metadata": {},
     "execution_count": 6
    }
   ],
   "source": [
    "## To handle missing values, we will fill the missing values with appropriate values \n",
    "launch_data['Launched?'].fillna('N', inplace=True)\n",
    "launch_data['Crewed or Uncrewed'].fillna('Uncrewed', inplace=True)\n",
    "launch_data['Wind Direction'].fillna('unknown', inplace=True)\n",
    "launch_data['Condition'].fillna('Fair', inplace=True)\n",
    "launch_data.fillna(0, inplace=True)\n",
    "launch_data.head()"
   ]
  },
  {
   "source": [
    "---\n",
    "**NOTE**\n",
    "\n",
    "We are changing the data that's stored in the <code>launch_data</code> variable, not the data saved in the Excel file. If we find that you modified or removed any data that we didn't mean to, we can re-run the notebook to bring the original data back in.\n",
    "\n",
    "---"
   ],
   "cell_type": "markdown",
   "metadata": {}
  },
  {
   "source": [
    "### Data manipulation"
   ],
   "cell_type": "markdown",
   "metadata": {}
  },
  {
   "source": [
    "When doing machine learning, models are best suited for numerical inputs, so let's convert all text into numbers. As an example, we'll use <code>1</code> if a rocket is crewed and <code>0</code> if a rocket is uncrewed."
   ],
   "cell_type": "markdown",
   "metadata": {}
  },
  {
   "cell_type": "code",
   "execution_count": 7,
   "metadata": {},
   "outputs": [],
   "source": [
    "## As part of the data cleaning process, we have to convert text data to numerical because computers understand only numbers\n",
    "label_encoder = preprocessing.LabelEncoder()\n",
    "\n",
    "# Three columns have categorical text info, and we convert them to numbers\n",
    "launch_data['Crewed or Uncrewed'] = label_encoder.fit_transform(launch_data['Crewed or Uncrewed'])\n",
    "launch_data['Wind Direction'] = label_encoder.fit_transform(launch_data['Wind Direction'])\n",
    "launch_data['Condition'] = label_encoder.fit_transform(launch_data['Condition'])"
   ]
  },
  {
   "cell_type": "code",
   "execution_count": 8,
   "metadata": {},
   "outputs": [
    {
     "output_type": "execute_result",
     "data": {
      "text/plain": [
       "        Name       Date Time (East Coast)        Location  Crewed or Uncrewed  \\\n",
       "0          0 1958-12-04                 0  Cape Canaveral                   1   \n",
       "1          0 1958-12-05                 0  Cape Canaveral                   1   \n",
       "2  Pioneer 3 1958-12-06          01:45:00  Cape Canaveral                   1   \n",
       "3          0 1958-12-07                 0  Cape Canaveral                   1   \n",
       "4          0 1958-12-08                 0  Cape Canaveral                   1   \n",
       "\n",
       "  Launched?  High Temp  Low Temp  Ave Temp  Temp at Launch Time  ...  \\\n",
       "0         N       75.0      68.0     71.00                  0.0  ...   \n",
       "1         N       78.0      70.0     73.39                  0.0  ...   \n",
       "2         Y       73.0       0.0     60.21                 62.0  ...   \n",
       "3         N       76.0      57.0     66.04                  0.0  ...   \n",
       "4         N       79.0      60.0     70.52                  0.0  ...   \n",
       "\n",
       "   Max Wind Speed  Visibility  Wind Speed at Launch Time  \\\n",
       "0            16.0        15.0                        0.0   \n",
       "1            14.0        10.0                        0.0   \n",
       "2            15.0        10.0                       11.0   \n",
       "3            10.0        10.0                        0.0   \n",
       "4            12.0        10.0                        0.0   \n",
       "\n",
       "   Hist Ave Max Wind Speed  Hist Ave Visibility  Sea Level Pressure  \\\n",
       "0                      0.0                  0.0               30.22   \n",
       "1                      0.0                  0.0                30.2   \n",
       "2                      0.0                  0.0               30.25   \n",
       "3                      0.0                  0.0               30.28   \n",
       "4                      0.0                  0.0               30.23   \n",
       "\n",
       "   Hist Ave Sea Level Pressure  Day Length  Condition  Notes  \n",
       "0                          0.0    10:26:00          0      0  \n",
       "1                          0.0    10:26:00          0      0  \n",
       "2                          0.0    10:25:00          0      0  \n",
       "3                          0.0    10:25:00          6      0  \n",
       "4                          0.0    12:24:00          6      0  \n",
       "\n",
       "[5 rows x 26 columns]"
      ],
      "text/html": "<div>\n<style scoped>\n    .dataframe tbody tr th:only-of-type {\n        vertical-align: middle;\n    }\n\n    .dataframe tbody tr th {\n        vertical-align: top;\n    }\n\n    .dataframe thead th {\n        text-align: right;\n    }\n</style>\n<table border=\"1\" class=\"dataframe\">\n  <thead>\n    <tr style=\"text-align: right;\">\n      <th></th>\n      <th>Name</th>\n      <th>Date</th>\n      <th>Time (East Coast)</th>\n      <th>Location</th>\n      <th>Crewed or Uncrewed</th>\n      <th>Launched?</th>\n      <th>High Temp</th>\n      <th>Low Temp</th>\n      <th>Ave Temp</th>\n      <th>Temp at Launch Time</th>\n      <th>...</th>\n      <th>Max Wind Speed</th>\n      <th>Visibility</th>\n      <th>Wind Speed at Launch Time</th>\n      <th>Hist Ave Max Wind Speed</th>\n      <th>Hist Ave Visibility</th>\n      <th>Sea Level Pressure</th>\n      <th>Hist Ave Sea Level Pressure</th>\n      <th>Day Length</th>\n      <th>Condition</th>\n      <th>Notes</th>\n    </tr>\n  </thead>\n  <tbody>\n    <tr>\n      <th>0</th>\n      <td>0</td>\n      <td>1958-12-04</td>\n      <td>0</td>\n      <td>Cape Canaveral</td>\n      <td>1</td>\n      <td>N</td>\n      <td>75.0</td>\n      <td>68.0</td>\n      <td>71.00</td>\n      <td>0.0</td>\n      <td>...</td>\n      <td>16.0</td>\n      <td>15.0</td>\n      <td>0.0</td>\n      <td>0.0</td>\n      <td>0.0</td>\n      <td>30.22</td>\n      <td>0.0</td>\n      <td>10:26:00</td>\n      <td>0</td>\n      <td>0</td>\n    </tr>\n    <tr>\n      <th>1</th>\n      <td>0</td>\n      <td>1958-12-05</td>\n      <td>0</td>\n      <td>Cape Canaveral</td>\n      <td>1</td>\n      <td>N</td>\n      <td>78.0</td>\n      <td>70.0</td>\n      <td>73.39</td>\n      <td>0.0</td>\n      <td>...</td>\n      <td>14.0</td>\n      <td>10.0</td>\n      <td>0.0</td>\n      <td>0.0</td>\n      <td>0.0</td>\n      <td>30.2</td>\n      <td>0.0</td>\n      <td>10:26:00</td>\n      <td>0</td>\n      <td>0</td>\n    </tr>\n    <tr>\n      <th>2</th>\n      <td>Pioneer 3</td>\n      <td>1958-12-06</td>\n      <td>01:45:00</td>\n      <td>Cape Canaveral</td>\n      <td>1</td>\n      <td>Y</td>\n      <td>73.0</td>\n      <td>0.0</td>\n      <td>60.21</td>\n      <td>62.0</td>\n      <td>...</td>\n      <td>15.0</td>\n      <td>10.0</td>\n      <td>11.0</td>\n      <td>0.0</td>\n      <td>0.0</td>\n      <td>30.25</td>\n      <td>0.0</td>\n      <td>10:25:00</td>\n      <td>0</td>\n      <td>0</td>\n    </tr>\n    <tr>\n      <th>3</th>\n      <td>0</td>\n      <td>1958-12-07</td>\n      <td>0</td>\n      <td>Cape Canaveral</td>\n      <td>1</td>\n      <td>N</td>\n      <td>76.0</td>\n      <td>57.0</td>\n      <td>66.04</td>\n      <td>0.0</td>\n      <td>...</td>\n      <td>10.0</td>\n      <td>10.0</td>\n      <td>0.0</td>\n      <td>0.0</td>\n      <td>0.0</td>\n      <td>30.28</td>\n      <td>0.0</td>\n      <td>10:25:00</td>\n      <td>6</td>\n      <td>0</td>\n    </tr>\n    <tr>\n      <th>4</th>\n      <td>0</td>\n      <td>1958-12-08</td>\n      <td>0</td>\n      <td>Cape Canaveral</td>\n      <td>1</td>\n      <td>N</td>\n      <td>79.0</td>\n      <td>60.0</td>\n      <td>70.52</td>\n      <td>0.0</td>\n      <td>...</td>\n      <td>12.0</td>\n      <td>10.0</td>\n      <td>0.0</td>\n      <td>0.0</td>\n      <td>0.0</td>\n      <td>30.23</td>\n      <td>0.0</td>\n      <td>12:24:00</td>\n      <td>6</td>\n      <td>0</td>\n    </tr>\n  </tbody>\n</table>\n<p>5 rows × 26 columns</p>\n</div>"
     },
     "metadata": {},
     "execution_count": 8
    }
   ],
   "source": [
    "launch_data.head()"
   ]
  },
  {
   "source": [
    "The choices that we made in this module were simplistic at best. Although a rocket didn't launch the day before or after it doesn't mean that a rocket launch would have been pushed due to weather on those days. So putting <code>N</code> in the <code>Launched</code> column for those dates is not really accurate."
   ],
   "cell_type": "markdown",
   "metadata": {}
  },
  {
   "source": [
    "Here are some ways to continue your learning and data journey:\n",
    "\n",
    "* Explore the data further: Look up articles and reports on each launch. Were there considerations made regarding weather before launch? Were there weather conditions around these dates that might have been worrisome?\n",
    "* Explore the missing weather data: What about the dates that NASA didn't choose to launch rockets? Beyond individual days, were there seasons that NASA avoided? What kind of weather profile do those seasons tend to have?\n",
    "* Explore the missing launch data: Can you find data on launches that were pushed due to weather? Is there data from other countries on their launches that you might be able to incorporate?\n",
    "* Explore other data manipulations: Could we have used better values to fill in missing data?\n",
    "* Decide what data you would want: If you had access to NASA's subject matter experts and data sources, what do you think would be most important to making a launch or push decision? If you could ask an expert something, what would it be?\n",
    "* Evaluate similar problems: Are there similar problems that you can use to help fill in this data? For example, are airplane delays due to weather in the area also an indicator?\n",
    "\n",
    "Being a data scientist isn't about having a complete data set and applying an algorithm to it. It's about starting from a place that's messy and likely wrong and learning in an iterative fashion."
   ],
   "cell_type": "markdown",
   "metadata": {}
  },
  {
   "source": [
    "## Build a machine learning model\n",
    "\n",
    "Previously, we imported 300 rows of weather data representing 60 rocket launches plus the couple of days before and after a launch. Through a simplistic version of data cleaning and manipulation, we got data to a place where we can start using machine learning algorithms to it."
   ],
   "cell_type": "markdown",
   "metadata": {}
  },
  {
   "source": [
    "### Determine columns to include in a machine learning model\n",
    "\n",
    "To begin training our machine learning model, we'll start by teaching the computer what parts of the data to look at to make predictions. We know that the column \n",
    "we want the model to predict is the \"Launched\" column. We'll extract this column and store it in a variable as a list of <code>Y</code> and <code>N</code>. \n",
    "\n",
    "Also  we'll remove some of the columns that aren't needed for making this prediction. Columns like \"Name\" give us more context about the data. But the name of a launch isn't an indicator of whether weather will cause the launch to be postponed. We'll focus on the columns for wind speed, conditions, and precipitation."
   ],
   "cell_type": "markdown",
   "metadata": {}
  },
  {
   "source": [
    "# First, we save the output we are interested in. In this case, \"launch\" yes and no's go into the output variable.\n",
    "y = launch_data['Launched?']\n",
    "\n",
    "# Removing the columns we are not interested in and saving the rest of the data as input data\n",
    "X = launch_data.drop(['Name','Date','Time (East Coast)','Location','Launched?','Hist Ave Sea Level Pressure','Sea Level Pressure','Day Length','Notes','Hist Ave Visibility', 'Hist Ave Max Wind Speed'], axis=1)"
   ],
   "cell_type": "code",
   "metadata": {},
   "execution_count": 9,
   "outputs": []
  },
  {
   "source": [
    "Now we have two variables. The output is in <code>y</code>, and the input is in <code>X</code>. We can see an overview of the input data by looking at the columns in the newly created <code>X</code> variable, The <code>X</code> input data represents the weather for a particular day. In this case, we aren't worried about the date or time. We want the profile of the weather for that day to be the indicator for whether a launch should happen, not the date or time"
   ],
   "cell_type": "markdown",
   "metadata": {}
  },
  {
   "cell_type": "code",
   "execution_count": 10,
   "metadata": {},
   "outputs": [
    {
     "output_type": "execute_result",
     "data": {
      "text/plain": [
       "Index(['Crewed or Uncrewed', 'High Temp', 'Low Temp', 'Ave Temp',\n",
       "       'Temp at Launch Time', 'Hist High Temp', 'Hist Low Temp',\n",
       "       'Hist Ave Temp', 'Percipitation at Launch Time',\n",
       "       'Hist Ave Percipitation', 'Wind Direction', 'Max Wind Speed',\n",
       "       'Visibility', 'Wind Speed at Launch Time', 'Condition'],\n",
       "      dtype='object')"
      ]
     },
     "metadata": {},
     "execution_count": 10
    }
   ],
   "source": [
    "# List of variables that our machine learning algorithm is going to look at:\n",
    "X.columns"
   ]
  },
  {
   "source": [
    "## Choose the machine learning algorithm to predict rocket launch success"
   ],
   "cell_type": "markdown",
   "metadata": {}
  },
  {
   "source": [
    "Now that we have chosen which columns we want to use to predict whether a rocket would launch given certain weather conditions. Now, we'll need to choose which algorithm to use to make our model. \n",
    "Remember the question: Can you predict whether a launch is likely to be able to happen given specific weather conditions? This question has two choices. A rocket will launch, either yes or no. This question is considered a two-class classification problem."
   ],
   "cell_type": "markdown",
   "metadata": {}
  },
  {
   "source": [
    "[![alt text][image]][hyperlink]\n",
    "\n",
    "[image]: https://scikit-learn.org/stable/_static/ml_map.png \"Choosing the right estimator\""
   ],
   "cell_type": "markdown",
   "metadata": {}
  },
  {
   "source": [
    "Using scikit-learn, it's easy to create the machine learning model we need for this model, let's try with a decision tree. \n",
    "The goal of a Decision Tree is to create a model that predicts the value of a target variable by learning simple decision rules inferred from the data features. A tree can be seen as a piecewise constant approximation."
   ],
   "cell_type": "markdown",
   "metadata": {}
  },
  {
   "source": [
    "Some [advantages](https://scikit-learn.org/stable/modules/tree.html#tree) of decision trees are:\n",
    "\n",
    "* Simple to understand and to interpret. Trees can be visualised.\n",
    "* Requires little data preparation. Other techniques often require data normalisation, dummy variables need to be created and blank values to be removed. Note however that this module does not support missing values.\n",
    "* The cost of using the tree (i.e., predicting data) is logarithmic in the number of data points used to train the tree.\n",
    "* Able to handle both numerical and categorical data. However scikit-learn implementation does not support categorical variables for now. Other techniques are usually specialised in analysing datasets that have only one type of variable. See algorithms for more information.\n",
    "* Able to handle multi-output problems.\n",
    "*Uses a white box model. If a given situation is observable in a model, the explanation for the condition is easily explained by boolean logic. By contrast, in a black box model (e.g., in an artificial neural network), results may be more difficult to interpret.\n",
    "* Possible to validate a model using statistical tests. That makes it possible to account for the reliability of the model.\n",
    "* Performs well even if its assumptions are somewhat violated by the true model from which the data were generated.\n",
    "\n",
    "The disadvantages of decision trees include:\n",
    "\n",
    "* Decision-tree learners can create over-complex trees that do not generalise the data well. This is called overfitting. Mechanisms such as pruning, setting the minimum number of samples required at a leaf node or setting the maximum depth of the tree are necessary to avoid this problem.\n",
    "* Decision trees can be unstable because small variations in the data might result in a completely different tree being generated. This problem is mitigated by using decision trees within an ensemble.\n",
    "* Predictions of decision trees are neither smooth nor continuous, but piecewise constant approximations as seen in the above figure. Therefore, they are not good at extrapolation.\n",
    "* The problem of learning an optimal decision tree is known to be NP-complete under several aspects of optimality and even for simple concepts. Consequently, practical decision-tree learning algorithms are based on heuristic algorithms such as the greedy algorithm where locally optimal decisions are made at each node. Such algorithms cannot guarantee to return the globally optimal decision tree. This can be mitigated by training multiple trees in an ensemble learner, where the features and samples are randomly sampled with replacement.\n",
    "* There are concepts that are hard to learn because decision trees do not express them easily, such as XOR, parity or multiplexer problems.\n",
    "* Decision tree learners create biased trees if some classes dominate. It is therefore recommended to balance the dataset prior to fitting with the decision tree."
   ],
   "cell_type": "markdown",
   "metadata": {}
  },
  {
   "cell_type": "code",
   "execution_count": 11,
   "metadata": {},
   "outputs": [],
   "source": [
    "# Machine learning libraries used to build a decision tree\n",
    "from sklearn.tree import DecisionTreeClassifier\n",
    "from sklearn import tree"
   ]
  },
  {
   "source": [
    "The <code>random_state</code> parameter will be used for most machine learning algorithms. It controls the randomness of the algorithm. When you use this estimator to split the data into data to train with and data to test with, the seed provided here dictates the randomness of that split. The next unit will provide more information on data splitting.\n",
    "\n",
    "The <code>max_depth</code> parameter is a tree-specific parameter that allows you to scope the output of the model. In this case, it isn't likely to be informative to get every possible probability of a specific weather condition and its likely effect on the likelihood of a rocket launch. The depth will be capped at five to reduce the knowledge gained to what is most practically related to the outcome.\n",
    "\n"
   ],
   "cell_type": "markdown",
   "metadata": {}
  },
  {
   "cell_type": "code",
   "execution_count": 12,
   "metadata": {},
   "outputs": [],
   "source": [
    "# Create decision tree classifier \n",
    "tree_model = DecisionTreeClassifier(random_state=0, max_depth = 5)"
   ]
  },
  {
   "source": [
    "### Split data into training and testing datasets\n"
   ],
   "cell_type": "markdown",
   "metadata": {}
  },
  {
   "cell_type": "code",
   "execution_count": 13,
   "metadata": {},
   "outputs": [],
   "source": [
    "# Sklearn library contains all the machine learning packages we need to extract patterns from the data\n",
    "from sklearn import linear_model, model_selection, metrics\n",
    "from sklearn.model_selection import train_test_split"
   ]
  },
  {
   "source": [
    "One way to explain the importance of splitting data is to compare it to an exam you might take. Consider a formal class you might be taking. Throughout the class, you're shown example problems and told what the answers are. \n",
    "\n",
    "Imagine a class where your instructor gave you the exact exam and the exam key (answers) the day before the exam. Would you ace the test? Yes!\n",
    "\n",
    "Would you know if you had learned the concepts? No. You're more likely to have learned the answers to the questions on the test and not the concepts the exam was trying to test.\n",
    "\n",
    "If you want to actually learn, you should practice with problems for which you have the answers. When you feel confident about those problems, try problems for which you don't already know the answers. That's basically what the classifier is doing to \"learn.\""
   ],
   "cell_type": "markdown",
   "metadata": {}
  },
  {
   "source": [
    "By using scikit-learn and the classifier's splitting function, we can get a random sampling of <code>X</code> and <code>y</code> that match in order. If the data wasn't split randomly but instead the first 80% of the rows were taken for training data and the rest were left for testing, it would introduce problems.\n",
    "\n",
    "For example, let's say the data is sorted in date order. If the first 240 rows were taken to train, then you would be training your model on data that predates 1999. This is an issue because the sensors might have changed over time. Only looking at older data might not be a good indicator for decisions that would be made with new technology."
   ],
   "cell_type": "markdown",
   "metadata": {}
  },
  {
   "cell_type": "code",
   "execution_count": 14,
   "metadata": {},
   "outputs": [],
   "source": [
    "X_train, X_test, y_train, y_test = train_test_split(X, y, test_size = 0.2, random_state = 42)"
   ]
  },
  {
   "source": [
    "* Input data: <code>X</code> - All of the columns that we want to use to predict a launch.\n",
    "* Output data: <code>y</code> - The outcome of each row (whether a rocket launched or not).\n",
    "* Test size: <code>0.2</code> - Training your data on 80% and testing on 20% is a common split in data science.\n",
    "* Random state: <code>42</code> - A random seed that will change the randomness of selecting the data."
   ],
   "cell_type": "markdown",
   "metadata": {}
  },
  {
   "source": [
    "## Train and test the machine learning model to predict rocket launch success"
   ],
   "cell_type": "markdown",
   "metadata": {}
  },
  {
   "source": [
    "After the data is separated into the training and testing sections, we can train our machine learning model. One of the reasons Python is a popular language for data science and machine learning is because of all the libraries that exist to support the study of data. As we've seen, getting the machine learning model created and the data split was simple. Fitting and testing our model will also be simple."
   ],
   "cell_type": "markdown",
   "metadata": {}
  },
  {
   "source": [
    "### Fit the model"
   ],
   "cell_type": "markdown",
   "metadata": {}
  },
  {
   "source": [
    "The next step in the data science lifecycle is to fit the model to the training data. The act of \"fitting\" is basically where the model is learning. To fit the model, we call <code>fit()</code> on the machine learning classifier and pass in the <code>X_train</code> and <code>y_train</code> data."
   ],
   "cell_type": "markdown",
   "metadata": {}
  },
  {
   "cell_type": "code",
   "execution_count": 15,
   "metadata": {},
   "outputs": [
    {
     "output_type": "execute_result",
     "data": {
      "text/plain": [
       "DecisionTreeClassifier(max_depth=5, random_state=0)"
      ]
     },
     "metadata": {},
     "execution_count": 15
    }
   ],
   "source": [
    "# Fitting the model to the training data\n",
    "tree_model.fit(X_train,y_train)"
   ]
  },
  {
   "source": [
    "### Test the model"
   ],
   "cell_type": "markdown",
   "metadata": {}
  },
  {
   "source": [
    "Testing the model is like taking the exam. We'll provide <code>X_test</code> (the 20% of the input data we reserved for testing) to the classifier's <code>predict()</code> function. This function returns a list of <code>Y</code> and <code>N</code> that represents what the model thinks would happen if a rocket launch was attempted given a particular set of weather conditions."
   ],
   "cell_type": "markdown",
   "metadata": {}
  },
  {
   "source": [
    "# Do prediction on test Data\n",
    "y_pred = tree_model.predict(X_test)\n",
    "print(y_pred)"
   ],
   "cell_type": "code",
   "metadata": {},
   "execution_count": 16,
   "outputs": [
    {
     "output_type": "stream",
     "name": "stdout",
     "text": [
      "['N' 'N' 'Y' 'N' 'N' 'N' 'N' 'N' 'N' 'N' 'Y' 'Y' 'N' 'N' 'Y' 'N' 'N' 'N'\n 'N' 'N' 'N' 'N' 'N' 'N' 'N' 'Y' 'N' 'N' 'Y' 'N' 'Y' 'N' 'N' 'N' 'N' 'N'\n 'Y' 'N' 'N' 'N' 'N' 'N' 'N' 'N' 'Y' 'N' 'N' 'N' 'N' 'N' 'N' 'N' 'N' 'N'\n 'Y' 'N' 'Y' 'Y' 'Y' 'N']\n"
     ]
    }
   ]
  },
  {
   "source": [
    "### Score the machine learning model that predicts rocket launch success"
   ],
   "cell_type": "markdown",
   "metadata": {}
  },
  {
   "source": [
    "Doing a simple comparison of percentage of data that resulted in a <code>Y</code> launch is useful for checking if the model is close to correct. But it's even more useful to actually score the model. We can see how accurate the model was at predicting whether a launch would happen. Using the <code>score()</code> function, you pass in the <code>X_test</code> input data and the <code>y_test</code> output data to \"grade\" the model. The higher the score, the more accurate our model is at predicting the outcome of a rocket launch based on weather data."
   ],
   "cell_type": "markdown",
   "metadata": {}
  },
  {
   "cell_type": "code",
   "execution_count": 17,
   "metadata": {},
   "outputs": [
    {
     "output_type": "execute_result",
     "data": {
      "text/plain": [
       "1.0"
      ]
     },
     "metadata": {},
     "execution_count": 17
    }
   ],
   "source": [
    "# Calculate accuracy\n",
    "tree_model.score(X_test,y_test)"
   ]
  },
  {
   "source": [
    "The model in this example is 100% accurate, which is good (too good). In fact, with the small amount of data cleansing and manipulation we did and with the known issues of the data, it seems a little too good.\n",
    "\n",
    "Perhaps we have the best data and correctly trained our model to get so accurate. But maybe this accuracy rate means we're good at guessing this somewhat manufactured data, so this score wouldn't be reliable in the real world. For context, 70% accuracy with a decision tree classifier (when run the first time) is common.\n",
    "\n",
    "How might you ensure that the score itself is an accurate representation of how accurate the model is?\n",
    "\n",
    "One way would be to ask an expert to fill in the Y and N data for the non-launch dates instead of just guessing N. For example, the likelihood of the day right before or right after a launch also being a good day to launch is probably higher than we represented in this data."
   ],
   "cell_type": "markdown",
   "metadata": {}
  },
  {
   "source": [
    "### Visualize the machine learning model\n",
    "One of the benefits of using a decision tree classifier is the visualization that you can use to better understand how the model makes decisions"
   ],
   "cell_type": "markdown",
   "metadata": {}
  },
  {
   "cell_type": "code",
   "execution_count": 18,
   "metadata": {},
   "outputs": [],
   "source": [
    "# for visualizing the tree\n",
    "from sklearn import tree\n",
    "import matplotlib.pyplot as plt"
   ]
  },
  {
   "source": [
    "* Data: <code>tree</code> - The machine learning model\n",
    "* Columns: <code>feature_names</code> - A list of the columns in the input data\n",
    "* Output: <code>class_names</code> - A list of the options for classification (in this case, yes or no)"
   ],
   "cell_type": "markdown",
   "metadata": {}
  },
  {
   "cell_type": "code",
   "execution_count": 19,
   "metadata": {},
   "outputs": [
    {
     "output_type": "execute_result",
     "data": {
      "text/plain": [
       "[Text(334.8, 271.8, 'Wind Speed at Launch Time <= 1.0\\ngini = 0.31\\nsamples = 240\\nvalue = [194, 46]\\nclass = No Launch'),\n",
       " Text(167.4, 163.08, 'Wind Direction <= 7.5\\ngini = 0.01\\nsamples = 194\\nvalue = [193, 1]\\nclass = No Launch'),\n",
       " Text(83.7, 54.360000000000014, 'gini = 0.0\\nsamples = 193\\nvalue = [193, 0]\\nclass = No Launch'),\n",
       " Text(251.10000000000002, 54.360000000000014, 'gini = 0.0\\nsamples = 1\\nvalue = [0, 1]\\nclass = Launch'),\n",
       " Text(502.20000000000005, 163.08, 'Max Wind Speed <= 30.5\\ngini = 0.043\\nsamples = 46\\nvalue = [1, 45]\\nclass = Launch'),\n",
       " Text(418.5, 54.360000000000014, 'gini = 0.0\\nsamples = 45\\nvalue = [0, 45]\\nclass = Launch'),\n",
       " Text(585.9, 54.360000000000014, 'gini = 0.0\\nsamples = 1\\nvalue = [1, 0]\\nclass = No Launch')]"
      ]
     },
     "metadata": {},
     "execution_count": 19
    },
    {
     "output_type": "display_data",
     "data": {
      "text/plain": "<Figure size 864x432 with 1 Axes>",
      "image/svg+xml": "<?xml version=\"1.0\" encoding=\"utf-8\" standalone=\"no\"?>\n<!DOCTYPE svg PUBLIC \"-//W3C//DTD SVG 1.1//EN\"\n  \"http://www.w3.org/Graphics/SVG/1.1/DTD/svg11.dtd\">\n<!-- Created with matplotlib (https://matplotlib.org/) -->\n<svg height=\"340.56pt\" version=\"1.1\" viewBox=\"0 0 684 340.56\" width=\"684pt\" xmlns=\"http://www.w3.org/2000/svg\" xmlns:xlink=\"http://www.w3.org/1999/xlink\">\n <defs>\n  <style type=\"text/css\">\n*{stroke-linecap:butt;stroke-linejoin:round;}\n  </style>\n </defs>\n <g id=\"figure_1\">\n  <g id=\"patch_1\">\n   <path d=\"M 0 340.56 \nL 684 340.56 \nL 684 0 \nL 0 0 \nz\n\" style=\"fill:none;\"/>\n  </g>\n  <g id=\"axes_1\">\n   <g id=\"patch_2\">\n    <path d=\"M 110.913678 253.003739 \nQ 141.805887 212.877084 173.380129 171.864521 \n\" style=\"fill:none;stroke:#000000;stroke-linecap:round;\"/>\n    <path d=\"M 114.528773 251.252751 \nL 110.913678 253.003739 \nL 111.681944 249.06107 \n\" style=\"fill:none;stroke:#000000;stroke-linecap:round;\"/>\n   </g>\n   <g id=\"text_1\">\n    <g id=\"patch_3\">\n     <path d=\"M 45.744243 302.02578 \nL 136.055757 302.02578 \nL 136.055757 255.97422 \nL 45.744243 255.97422 \nz\n\" style=\"fill:#e58139;stroke:#000000;stroke-linejoin:miter;\"/>\n    </g>\n    <!-- gini = 0.0 -->\n    <defs>\n     <path d=\"M 45.40625 27.984375 \nQ 45.40625 37.75 41.375 43.109375 \nQ 37.359375 48.484375 30.078125 48.484375 \nQ 22.859375 48.484375 18.828125 43.109375 \nQ 14.796875 37.75 14.796875 27.984375 \nQ 14.796875 18.265625 18.828125 12.890625 \nQ 22.859375 7.515625 30.078125 7.515625 \nQ 37.359375 7.515625 41.375 12.890625 \nQ 45.40625 18.265625 45.40625 27.984375 \nz\nM 54.390625 6.78125 \nQ 54.390625 -7.171875 48.1875 -13.984375 \nQ 42 -20.796875 29.203125 -20.796875 \nQ 24.46875 -20.796875 20.265625 -20.09375 \nQ 16.0625 -19.390625 12.109375 -17.921875 \nL 12.109375 -9.1875 \nQ 16.0625 -11.328125 19.921875 -12.34375 \nQ 23.78125 -13.375 27.78125 -13.375 \nQ 36.625 -13.375 41.015625 -8.765625 \nQ 45.40625 -4.15625 45.40625 5.171875 \nL 45.40625 9.625 \nQ 42.625 4.78125 38.28125 2.390625 \nQ 33.9375 0 27.875 0 \nQ 17.828125 0 11.671875 7.65625 \nQ 5.515625 15.328125 5.515625 27.984375 \nQ 5.515625 40.671875 11.671875 48.328125 \nQ 17.828125 56 27.875 56 \nQ 33.9375 56 38.28125 53.609375 \nQ 42.625 51.21875 45.40625 46.390625 \nL 45.40625 54.6875 \nL 54.390625 54.6875 \nz\n\" id=\"DejaVuSans-103\"/>\n     <path d=\"M 9.421875 54.6875 \nL 18.40625 54.6875 \nL 18.40625 0 \nL 9.421875 0 \nz\nM 9.421875 75.984375 \nL 18.40625 75.984375 \nL 18.40625 64.59375 \nL 9.421875 64.59375 \nz\n\" id=\"DejaVuSans-105\"/>\n     <path d=\"M 54.890625 33.015625 \nL 54.890625 0 \nL 45.90625 0 \nL 45.90625 32.71875 \nQ 45.90625 40.484375 42.875 44.328125 \nQ 39.84375 48.1875 33.796875 48.1875 \nQ 26.515625 48.1875 22.3125 43.546875 \nQ 18.109375 38.921875 18.109375 30.90625 \nL 18.109375 0 \nL 9.078125 0 \nL 9.078125 54.6875 \nL 18.109375 54.6875 \nL 18.109375 46.1875 \nQ 21.34375 51.125 25.703125 53.5625 \nQ 30.078125 56 35.796875 56 \nQ 45.21875 56 50.046875 50.171875 \nQ 54.890625 44.34375 54.890625 33.015625 \nz\n\" id=\"DejaVuSans-110\"/>\n     <path id=\"DejaVuSans-32\"/>\n     <path d=\"M 10.59375 45.40625 \nL 73.1875 45.40625 \nL 73.1875 37.203125 \nL 10.59375 37.203125 \nz\nM 10.59375 25.484375 \nL 73.1875 25.484375 \nL 73.1875 17.1875 \nL 10.59375 17.1875 \nz\n\" id=\"DejaVuSans-61\"/>\n     <path d=\"M 31.78125 66.40625 \nQ 24.171875 66.40625 20.328125 58.90625 \nQ 16.5 51.421875 16.5 36.375 \nQ 16.5 21.390625 20.328125 13.890625 \nQ 24.171875 6.390625 31.78125 6.390625 \nQ 39.453125 6.390625 43.28125 13.890625 \nQ 47.125 21.390625 47.125 36.375 \nQ 47.125 51.421875 43.28125 58.90625 \nQ 39.453125 66.40625 31.78125 66.40625 \nz\nM 31.78125 74.21875 \nQ 44.046875 74.21875 50.515625 64.515625 \nQ 56.984375 54.828125 56.984375 36.375 \nQ 56.984375 17.96875 50.515625 8.265625 \nQ 44.046875 -1.421875 31.78125 -1.421875 \nQ 19.53125 -1.421875 13.0625 8.265625 \nQ 6.59375 17.96875 6.59375 36.375 \nQ 6.59375 54.828125 13.0625 64.515625 \nQ 19.53125 74.21875 31.78125 74.21875 \nz\n\" id=\"DejaVuSans-48\"/>\n     <path d=\"M 10.6875 12.40625 \nL 21 12.40625 \nL 21 0 \nL 10.6875 0 \nz\n\" id=\"DejaVuSans-46\"/>\n    </defs>\n    <g transform=\"translate(68.947696 266.39181)scale(0.089819 -0.089819)\">\n     <use xlink:href=\"#DejaVuSans-103\"/>\n     <use x=\"63.476562\" xlink:href=\"#DejaVuSans-105\"/>\n     <use x=\"91.259766\" xlink:href=\"#DejaVuSans-110\"/>\n     <use x=\"154.638672\" xlink:href=\"#DejaVuSans-105\"/>\n     <use x=\"182.421875\" xlink:href=\"#DejaVuSans-32\"/>\n     <use x=\"214.208984\" xlink:href=\"#DejaVuSans-61\"/>\n     <use x=\"297.998047\" xlink:href=\"#DejaVuSans-32\"/>\n     <use x=\"329.785156\" xlink:href=\"#DejaVuSans-48\"/>\n     <use x=\"393.408203\" xlink:href=\"#DejaVuSans-46\"/>\n     <use x=\"425.195312\" xlink:href=\"#DejaVuSans-48\"/>\n    </g>\n    <!-- samples = 193 -->\n    <defs>\n     <path d=\"M 44.28125 53.078125 \nL 44.28125 44.578125 \nQ 40.484375 46.53125 36.375 47.5 \nQ 32.28125 48.484375 27.875 48.484375 \nQ 21.1875 48.484375 17.84375 46.4375 \nQ 14.5 44.390625 14.5 40.28125 \nQ 14.5 37.15625 16.890625 35.375 \nQ 19.28125 33.59375 26.515625 31.984375 \nL 29.59375 31.296875 \nQ 39.15625 29.25 43.1875 25.515625 \nQ 47.21875 21.78125 47.21875 15.09375 \nQ 47.21875 7.46875 41.1875 3.015625 \nQ 35.15625 -1.421875 24.609375 -1.421875 \nQ 20.21875 -1.421875 15.453125 -0.5625 \nQ 10.6875 0.296875 5.421875 2 \nL 5.421875 11.28125 \nQ 10.40625 8.6875 15.234375 7.390625 \nQ 20.0625 6.109375 24.8125 6.109375 \nQ 31.15625 6.109375 34.5625 8.28125 \nQ 37.984375 10.453125 37.984375 14.40625 \nQ 37.984375 18.0625 35.515625 20.015625 \nQ 33.0625 21.96875 24.703125 23.78125 \nL 21.578125 24.515625 \nQ 13.234375 26.265625 9.515625 29.90625 \nQ 5.8125 33.546875 5.8125 39.890625 \nQ 5.8125 47.609375 11.28125 51.796875 \nQ 16.75 56 26.8125 56 \nQ 31.78125 56 36.171875 55.265625 \nQ 40.578125 54.546875 44.28125 53.078125 \nz\n\" id=\"DejaVuSans-115\"/>\n     <path d=\"M 34.28125 27.484375 \nQ 23.390625 27.484375 19.1875 25 \nQ 14.984375 22.515625 14.984375 16.5 \nQ 14.984375 11.71875 18.140625 8.90625 \nQ 21.296875 6.109375 26.703125 6.109375 \nQ 34.1875 6.109375 38.703125 11.40625 \nQ 43.21875 16.703125 43.21875 25.484375 \nL 43.21875 27.484375 \nz\nM 52.203125 31.203125 \nL 52.203125 0 \nL 43.21875 0 \nL 43.21875 8.296875 \nQ 40.140625 3.328125 35.546875 0.953125 \nQ 30.953125 -1.421875 24.3125 -1.421875 \nQ 15.921875 -1.421875 10.953125 3.296875 \nQ 6 8.015625 6 15.921875 \nQ 6 25.140625 12.171875 29.828125 \nQ 18.359375 34.515625 30.609375 34.515625 \nL 43.21875 34.515625 \nL 43.21875 35.40625 \nQ 43.21875 41.609375 39.140625 45 \nQ 35.0625 48.390625 27.6875 48.390625 \nQ 23 48.390625 18.546875 47.265625 \nQ 14.109375 46.140625 10.015625 43.890625 \nL 10.015625 52.203125 \nQ 14.9375 54.109375 19.578125 55.046875 \nQ 24.21875 56 28.609375 56 \nQ 40.484375 56 46.34375 49.84375 \nQ 52.203125 43.703125 52.203125 31.203125 \nz\n\" id=\"DejaVuSans-97\"/>\n     <path d=\"M 52 44.1875 \nQ 55.375 50.25 60.0625 53.125 \nQ 64.75 56 71.09375 56 \nQ 79.640625 56 84.28125 50.015625 \nQ 88.921875 44.046875 88.921875 33.015625 \nL 88.921875 0 \nL 79.890625 0 \nL 79.890625 32.71875 \nQ 79.890625 40.578125 77.09375 44.375 \nQ 74.3125 48.1875 68.609375 48.1875 \nQ 61.625 48.1875 57.5625 43.546875 \nQ 53.515625 38.921875 53.515625 30.90625 \nL 53.515625 0 \nL 44.484375 0 \nL 44.484375 32.71875 \nQ 44.484375 40.625 41.703125 44.40625 \nQ 38.921875 48.1875 33.109375 48.1875 \nQ 26.21875 48.1875 22.15625 43.53125 \nQ 18.109375 38.875 18.109375 30.90625 \nL 18.109375 0 \nL 9.078125 0 \nL 9.078125 54.6875 \nL 18.109375 54.6875 \nL 18.109375 46.1875 \nQ 21.1875 51.21875 25.484375 53.609375 \nQ 29.78125 56 35.6875 56 \nQ 41.65625 56 45.828125 52.96875 \nQ 50 49.953125 52 44.1875 \nz\n\" id=\"DejaVuSans-109\"/>\n     <path d=\"M 18.109375 8.203125 \nL 18.109375 -20.796875 \nL 9.078125 -20.796875 \nL 9.078125 54.6875 \nL 18.109375 54.6875 \nL 18.109375 46.390625 \nQ 20.953125 51.265625 25.265625 53.625 \nQ 29.59375 56 35.59375 56 \nQ 45.5625 56 51.78125 48.09375 \nQ 58.015625 40.1875 58.015625 27.296875 \nQ 58.015625 14.40625 51.78125 6.484375 \nQ 45.5625 -1.421875 35.59375 -1.421875 \nQ 29.59375 -1.421875 25.265625 0.953125 \nQ 20.953125 3.328125 18.109375 8.203125 \nz\nM 48.6875 27.296875 \nQ 48.6875 37.203125 44.609375 42.84375 \nQ 40.53125 48.484375 33.40625 48.484375 \nQ 26.265625 48.484375 22.1875 42.84375 \nQ 18.109375 37.203125 18.109375 27.296875 \nQ 18.109375 17.390625 22.1875 11.75 \nQ 26.265625 6.109375 33.40625 6.109375 \nQ 40.53125 6.109375 44.609375 11.75 \nQ 48.6875 17.390625 48.6875 27.296875 \nz\n\" id=\"DejaVuSans-112\"/>\n     <path d=\"M 9.421875 75.984375 \nL 18.40625 75.984375 \nL 18.40625 0 \nL 9.421875 0 \nz\n\" id=\"DejaVuSans-108\"/>\n     <path d=\"M 56.203125 29.59375 \nL 56.203125 25.203125 \nL 14.890625 25.203125 \nQ 15.484375 15.921875 20.484375 11.0625 \nQ 25.484375 6.203125 34.421875 6.203125 \nQ 39.59375 6.203125 44.453125 7.46875 \nQ 49.3125 8.734375 54.109375 11.28125 \nL 54.109375 2.78125 \nQ 49.265625 0.734375 44.1875 -0.34375 \nQ 39.109375 -1.421875 33.890625 -1.421875 \nQ 20.796875 -1.421875 13.15625 6.1875 \nQ 5.515625 13.8125 5.515625 26.8125 \nQ 5.515625 40.234375 12.765625 48.109375 \nQ 20.015625 56 32.328125 56 \nQ 43.359375 56 49.78125 48.890625 \nQ 56.203125 41.796875 56.203125 29.59375 \nz\nM 47.21875 32.234375 \nQ 47.125 39.59375 43.09375 43.984375 \nQ 39.0625 48.390625 32.421875 48.390625 \nQ 24.90625 48.390625 20.390625 44.140625 \nQ 15.875 39.890625 15.1875 32.171875 \nz\n\" id=\"DejaVuSans-101\"/>\n     <path d=\"M 12.40625 8.296875 \nL 28.515625 8.296875 \nL 28.515625 63.921875 \nL 10.984375 60.40625 \nL 10.984375 69.390625 \nL 28.421875 72.90625 \nL 38.28125 72.90625 \nL 38.28125 8.296875 \nL 54.390625 8.296875 \nL 54.390625 0 \nL 12.40625 0 \nz\n\" id=\"DejaVuSans-49\"/>\n     <path d=\"M 10.984375 1.515625 \nL 10.984375 10.5 \nQ 14.703125 8.734375 18.5 7.8125 \nQ 22.3125 6.890625 25.984375 6.890625 \nQ 35.75 6.890625 40.890625 13.453125 \nQ 46.046875 20.015625 46.78125 33.40625 \nQ 43.953125 29.203125 39.59375 26.953125 \nQ 35.25 24.703125 29.984375 24.703125 \nQ 19.046875 24.703125 12.671875 31.3125 \nQ 6.296875 37.9375 6.296875 49.421875 \nQ 6.296875 60.640625 12.9375 67.421875 \nQ 19.578125 74.21875 30.609375 74.21875 \nQ 43.265625 74.21875 49.921875 64.515625 \nQ 56.59375 54.828125 56.59375 36.375 \nQ 56.59375 19.140625 48.40625 8.859375 \nQ 40.234375 -1.421875 26.421875 -1.421875 \nQ 22.703125 -1.421875 18.890625 -0.6875 \nQ 15.09375 0.046875 10.984375 1.515625 \nz\nM 30.609375 32.421875 \nQ 37.25 32.421875 41.125 36.953125 \nQ 45.015625 41.5 45.015625 49.421875 \nQ 45.015625 57.28125 41.125 61.84375 \nQ 37.25 66.40625 30.609375 66.40625 \nQ 23.96875 66.40625 20.09375 61.84375 \nQ 16.21875 57.28125 16.21875 49.421875 \nQ 16.21875 41.5 20.09375 36.953125 \nQ 23.96875 32.421875 30.609375 32.421875 \nz\n\" id=\"DejaVuSans-57\"/>\n     <path d=\"M 40.578125 39.3125 \nQ 47.65625 37.796875 51.625 33 \nQ 55.609375 28.21875 55.609375 21.1875 \nQ 55.609375 10.40625 48.1875 4.484375 \nQ 40.765625 -1.421875 27.09375 -1.421875 \nQ 22.515625 -1.421875 17.65625 -0.515625 \nQ 12.796875 0.390625 7.625 2.203125 \nL 7.625 11.71875 \nQ 11.71875 9.328125 16.59375 8.109375 \nQ 21.484375 6.890625 26.8125 6.890625 \nQ 36.078125 6.890625 40.9375 10.546875 \nQ 45.796875 14.203125 45.796875 21.1875 \nQ 45.796875 27.640625 41.28125 31.265625 \nQ 36.765625 34.90625 28.71875 34.90625 \nL 20.21875 34.90625 \nL 20.21875 43.015625 \nL 29.109375 43.015625 \nQ 36.375 43.015625 40.234375 45.921875 \nQ 44.09375 48.828125 44.09375 54.296875 \nQ 44.09375 59.90625 40.109375 62.90625 \nQ 36.140625 65.921875 28.71875 65.921875 \nQ 24.65625 65.921875 20.015625 65.03125 \nQ 15.375 64.15625 9.8125 62.3125 \nL 9.8125 71.09375 \nQ 15.4375 72.65625 20.34375 73.4375 \nQ 25.25 74.21875 29.59375 74.21875 \nQ 40.828125 74.21875 47.359375 69.109375 \nQ 53.90625 64.015625 53.90625 55.328125 \nQ 53.90625 49.265625 50.4375 45.09375 \nQ 46.96875 40.921875 40.578125 39.3125 \nz\n\" id=\"DejaVuSans-51\"/>\n    </defs>\n    <g transform=\"translate(57.04248 276.449564)scale(0.089819 -0.089819)\">\n     <use xlink:href=\"#DejaVuSans-115\"/>\n     <use x=\"52.099609\" xlink:href=\"#DejaVuSans-97\"/>\n     <use x=\"113.378906\" xlink:href=\"#DejaVuSans-109\"/>\n     <use x=\"210.791016\" xlink:href=\"#DejaVuSans-112\"/>\n     <use x=\"274.267578\" xlink:href=\"#DejaVuSans-108\"/>\n     <use x=\"302.050781\" xlink:href=\"#DejaVuSans-101\"/>\n     <use x=\"363.574219\" xlink:href=\"#DejaVuSans-115\"/>\n     <use x=\"415.673828\" xlink:href=\"#DejaVuSans-32\"/>\n     <use x=\"447.460938\" xlink:href=\"#DejaVuSans-61\"/>\n     <use x=\"531.25\" xlink:href=\"#DejaVuSans-32\"/>\n     <use x=\"563.037109\" xlink:href=\"#DejaVuSans-49\"/>\n     <use x=\"626.660156\" xlink:href=\"#DejaVuSans-57\"/>\n     <use x=\"690.283203\" xlink:href=\"#DejaVuSans-51\"/>\n    </g>\n    <!-- value = [193, 0] -->\n    <defs>\n     <path d=\"M 2.984375 54.6875 \nL 12.5 54.6875 \nL 29.59375 8.796875 \nL 46.6875 54.6875 \nL 56.203125 54.6875 \nL 35.6875 0 \nL 23.484375 0 \nz\n\" id=\"DejaVuSans-118\"/>\n     <path d=\"M 8.5 21.578125 \nL 8.5 54.6875 \nL 17.484375 54.6875 \nL 17.484375 21.921875 \nQ 17.484375 14.15625 20.5 10.265625 \nQ 23.53125 6.390625 29.59375 6.390625 \nQ 36.859375 6.390625 41.078125 11.03125 \nQ 45.3125 15.671875 45.3125 23.6875 \nL 45.3125 54.6875 \nL 54.296875 54.6875 \nL 54.296875 0 \nL 45.3125 0 \nL 45.3125 8.40625 \nQ 42.046875 3.421875 37.71875 1 \nQ 33.40625 -1.421875 27.6875 -1.421875 \nQ 18.265625 -1.421875 13.375 4.4375 \nQ 8.5 10.296875 8.5 21.578125 \nz\nM 31.109375 56 \nz\n\" id=\"DejaVuSans-117\"/>\n     <path d=\"M 8.59375 75.984375 \nL 29.296875 75.984375 \nL 29.296875 69 \nL 17.578125 69 \nL 17.578125 -6.203125 \nL 29.296875 -6.203125 \nL 29.296875 -13.1875 \nL 8.59375 -13.1875 \nz\n\" id=\"DejaVuSans-91\"/>\n     <path d=\"M 11.71875 12.40625 \nL 22.015625 12.40625 \nL 22.015625 4 \nL 14.015625 -11.625 \nL 7.71875 -11.625 \nL 11.71875 4 \nz\n\" id=\"DejaVuSans-44\"/>\n     <path d=\"M 30.421875 75.984375 \nL 30.421875 -13.1875 \nL 9.71875 -13.1875 \nL 9.71875 -6.203125 \nL 21.390625 -6.203125 \nL 21.390625 69 \nL 9.71875 69 \nL 9.71875 75.984375 \nz\n\" id=\"DejaVuSans-93\"/>\n    </defs>\n    <g transform=\"translate(54.226517 286.507317)scale(0.089819 -0.089819)\">\n     <use xlink:href=\"#DejaVuSans-118\"/>\n     <use x=\"59.179688\" xlink:href=\"#DejaVuSans-97\"/>\n     <use x=\"120.458984\" xlink:href=\"#DejaVuSans-108\"/>\n     <use x=\"148.242188\" xlink:href=\"#DejaVuSans-117\"/>\n     <use x=\"211.621094\" xlink:href=\"#DejaVuSans-101\"/>\n     <use x=\"273.144531\" xlink:href=\"#DejaVuSans-32\"/>\n     <use x=\"304.931641\" xlink:href=\"#DejaVuSans-61\"/>\n     <use x=\"388.720703\" xlink:href=\"#DejaVuSans-32\"/>\n     <use x=\"420.507812\" xlink:href=\"#DejaVuSans-91\"/>\n     <use x=\"459.521484\" xlink:href=\"#DejaVuSans-49\"/>\n     <use x=\"523.144531\" xlink:href=\"#DejaVuSans-57\"/>\n     <use x=\"586.767578\" xlink:href=\"#DejaVuSans-51\"/>\n     <use x=\"650.390625\" xlink:href=\"#DejaVuSans-44\"/>\n     <use x=\"682.177734\" xlink:href=\"#DejaVuSans-32\"/>\n     <use x=\"713.964844\" xlink:href=\"#DejaVuSans-48\"/>\n     <use x=\"777.587891\" xlink:href=\"#DejaVuSans-93\"/>\n    </g>\n    <!-- class = No Launch -->\n    <defs>\n     <path d=\"M 48.78125 52.59375 \nL 48.78125 44.1875 \nQ 44.96875 46.296875 41.140625 47.34375 \nQ 37.3125 48.390625 33.40625 48.390625 \nQ 24.65625 48.390625 19.8125 42.84375 \nQ 14.984375 37.3125 14.984375 27.296875 \nQ 14.984375 17.28125 19.8125 11.734375 \nQ 24.65625 6.203125 33.40625 6.203125 \nQ 37.3125 6.203125 41.140625 7.25 \nQ 44.96875 8.296875 48.78125 10.40625 \nL 48.78125 2.09375 \nQ 45.015625 0.34375 40.984375 -0.53125 \nQ 36.96875 -1.421875 32.421875 -1.421875 \nQ 20.0625 -1.421875 12.78125 6.34375 \nQ 5.515625 14.109375 5.515625 27.296875 \nQ 5.515625 40.671875 12.859375 48.328125 \nQ 20.21875 56 33.015625 56 \nQ 37.15625 56 41.109375 55.140625 \nQ 45.0625 54.296875 48.78125 52.59375 \nz\n\" id=\"DejaVuSans-99\"/>\n     <path d=\"M 9.8125 72.90625 \nL 23.09375 72.90625 \nL 55.421875 11.921875 \nL 55.421875 72.90625 \nL 64.984375 72.90625 \nL 64.984375 0 \nL 51.703125 0 \nL 19.390625 60.984375 \nL 19.390625 0 \nL 9.8125 0 \nz\n\" id=\"DejaVuSans-78\"/>\n     <path d=\"M 30.609375 48.390625 \nQ 23.390625 48.390625 19.1875 42.75 \nQ 14.984375 37.109375 14.984375 27.296875 \nQ 14.984375 17.484375 19.15625 11.84375 \nQ 23.34375 6.203125 30.609375 6.203125 \nQ 37.796875 6.203125 41.984375 11.859375 \nQ 46.1875 17.53125 46.1875 27.296875 \nQ 46.1875 37.015625 41.984375 42.703125 \nQ 37.796875 48.390625 30.609375 48.390625 \nz\nM 30.609375 56 \nQ 42.328125 56 49.015625 48.375 \nQ 55.71875 40.765625 55.71875 27.296875 \nQ 55.71875 13.875 49.015625 6.21875 \nQ 42.328125 -1.421875 30.609375 -1.421875 \nQ 18.84375 -1.421875 12.171875 6.21875 \nQ 5.515625 13.875 5.515625 27.296875 \nQ 5.515625 40.765625 12.171875 48.375 \nQ 18.84375 56 30.609375 56 \nz\n\" id=\"DejaVuSans-111\"/>\n     <path d=\"M 9.8125 72.90625 \nL 19.671875 72.90625 \nL 19.671875 8.296875 \nL 55.171875 8.296875 \nL 55.171875 0 \nL 9.8125 0 \nz\n\" id=\"DejaVuSans-76\"/>\n     <path d=\"M 54.890625 33.015625 \nL 54.890625 0 \nL 45.90625 0 \nL 45.90625 32.71875 \nQ 45.90625 40.484375 42.875 44.328125 \nQ 39.84375 48.1875 33.796875 48.1875 \nQ 26.515625 48.1875 22.3125 43.546875 \nQ 18.109375 38.921875 18.109375 30.90625 \nL 18.109375 0 \nL 9.078125 0 \nL 9.078125 75.984375 \nL 18.109375 75.984375 \nL 18.109375 46.1875 \nQ 21.34375 51.125 25.703125 53.5625 \nQ 30.078125 56 35.796875 56 \nQ 45.21875 56 50.046875 50.171875 \nQ 54.890625 44.34375 54.890625 33.015625 \nz\n\" id=\"DejaVuSans-104\"/>\n    </defs>\n    <g transform=\"translate(49.336999 296.565071)scale(0.089819 -0.089819)\">\n     <use xlink:href=\"#DejaVuSans-99\"/>\n     <use x=\"54.980469\" xlink:href=\"#DejaVuSans-108\"/>\n     <use x=\"82.763672\" xlink:href=\"#DejaVuSans-97\"/>\n     <use x=\"144.042969\" xlink:href=\"#DejaVuSans-115\"/>\n     <use x=\"196.142578\" xlink:href=\"#DejaVuSans-115\"/>\n     <use x=\"248.242188\" xlink:href=\"#DejaVuSans-32\"/>\n     <use x=\"280.029297\" xlink:href=\"#DejaVuSans-61\"/>\n     <use x=\"363.818359\" xlink:href=\"#DejaVuSans-32\"/>\n     <use x=\"395.605469\" xlink:href=\"#DejaVuSans-78\"/>\n     <use x=\"470.410156\" xlink:href=\"#DejaVuSans-111\"/>\n     <use x=\"531.591797\" xlink:href=\"#DejaVuSans-32\"/>\n     <use x=\"563.378906\" xlink:href=\"#DejaVuSans-76\"/>\n     <use x=\"619.091797\" xlink:href=\"#DejaVuSans-97\"/>\n     <use x=\"680.371094\" xlink:href=\"#DejaVuSans-117\"/>\n     <use x=\"743.75\" xlink:href=\"#DejaVuSans-110\"/>\n     <use x=\"807.128906\" xlink:href=\"#DejaVuSans-99\"/>\n     <use x=\"862.109375\" xlink:href=\"#DejaVuSans-104\"/>\n    </g>\n   </g>\n   <g id=\"patch_4\">\n    <path d=\"M 238.286322 253.003739 \nQ 207.394113 212.877084 175.819871 171.864521 \n\" style=\"fill:none;stroke:#000000;stroke-linecap:round;\"/>\n    <path d=\"M 237.518056 249.06107 \nL 238.286322 253.003739 \nL 234.671227 251.252751 \n\" style=\"fill:none;stroke:#000000;stroke-linecap:round;\"/>\n   </g>\n   <g id=\"text_2\">\n    <g id=\"patch_5\">\n     <path d=\"M 220.679208 302.02578 \nL 295.920792 302.02578 \nL 295.920792 255.97422 \nL 220.679208 255.97422 \nz\n\" style=\"fill:#399de5;stroke:#000000;stroke-linejoin:miter;\"/>\n    </g>\n    <!-- gini = 0.0 -->\n    <g transform=\"translate(236.347696 266.39181)scale(0.089819 -0.089819)\">\n     <use xlink:href=\"#DejaVuSans-103\"/>\n     <use x=\"63.476562\" xlink:href=\"#DejaVuSans-105\"/>\n     <use x=\"91.259766\" xlink:href=\"#DejaVuSans-110\"/>\n     <use x=\"154.638672\" xlink:href=\"#DejaVuSans-105\"/>\n     <use x=\"182.421875\" xlink:href=\"#DejaVuSans-32\"/>\n     <use x=\"214.208984\" xlink:href=\"#DejaVuSans-61\"/>\n     <use x=\"297.998047\" xlink:href=\"#DejaVuSans-32\"/>\n     <use x=\"329.785156\" xlink:href=\"#DejaVuSans-48\"/>\n     <use x=\"393.408203\" xlink:href=\"#DejaVuSans-46\"/>\n     <use x=\"425.195312\" xlink:href=\"#DejaVuSans-48\"/>\n    </g>\n    <!-- samples = 1 -->\n    <g transform=\"translate(230.157208 276.449564)scale(0.089819 -0.089819)\">\n     <use xlink:href=\"#DejaVuSans-115\"/>\n     <use x=\"52.099609\" xlink:href=\"#DejaVuSans-97\"/>\n     <use x=\"113.378906\" xlink:href=\"#DejaVuSans-109\"/>\n     <use x=\"210.791016\" xlink:href=\"#DejaVuSans-112\"/>\n     <use x=\"274.267578\" xlink:href=\"#DejaVuSans-108\"/>\n     <use x=\"302.050781\" xlink:href=\"#DejaVuSans-101\"/>\n     <use x=\"363.574219\" xlink:href=\"#DejaVuSans-115\"/>\n     <use x=\"415.673828\" xlink:href=\"#DejaVuSans-32\"/>\n     <use x=\"447.460938\" xlink:href=\"#DejaVuSans-61\"/>\n     <use x=\"531.25\" xlink:href=\"#DejaVuSans-32\"/>\n     <use x=\"563.037109\" xlink:href=\"#DejaVuSans-49\"/>\n    </g>\n    <!-- value = [0, 1] -->\n    <g transform=\"translate(227.341245 286.507317)scale(0.089819 -0.089819)\">\n     <use xlink:href=\"#DejaVuSans-118\"/>\n     <use x=\"59.179688\" xlink:href=\"#DejaVuSans-97\"/>\n     <use x=\"120.458984\" xlink:href=\"#DejaVuSans-108\"/>\n     <use x=\"148.242188\" xlink:href=\"#DejaVuSans-117\"/>\n     <use x=\"211.621094\" xlink:href=\"#DejaVuSans-101\"/>\n     <use x=\"273.144531\" xlink:href=\"#DejaVuSans-32\"/>\n     <use x=\"304.931641\" xlink:href=\"#DejaVuSans-61\"/>\n     <use x=\"388.720703\" xlink:href=\"#DejaVuSans-32\"/>\n     <use x=\"420.507812\" xlink:href=\"#DejaVuSans-91\"/>\n     <use x=\"459.521484\" xlink:href=\"#DejaVuSans-48\"/>\n     <use x=\"523.144531\" xlink:href=\"#DejaVuSans-44\"/>\n     <use x=\"554.931641\" xlink:href=\"#DejaVuSans-32\"/>\n     <use x=\"586.71875\" xlink:href=\"#DejaVuSans-49\"/>\n     <use x=\"650.341797\" xlink:href=\"#DejaVuSans-93\"/>\n    </g>\n    <!-- class = Launch -->\n    <g transform=\"translate(224.271964 296.565071)scale(0.089819 -0.089819)\">\n     <use xlink:href=\"#DejaVuSans-99\"/>\n     <use x=\"54.980469\" xlink:href=\"#DejaVuSans-108\"/>\n     <use x=\"82.763672\" xlink:href=\"#DejaVuSans-97\"/>\n     <use x=\"144.042969\" xlink:href=\"#DejaVuSans-115\"/>\n     <use x=\"196.142578\" xlink:href=\"#DejaVuSans-115\"/>\n     <use x=\"248.242188\" xlink:href=\"#DejaVuSans-32\"/>\n     <use x=\"280.029297\" xlink:href=\"#DejaVuSans-61\"/>\n     <use x=\"363.818359\" xlink:href=\"#DejaVuSans-32\"/>\n     <use x=\"395.605469\" xlink:href=\"#DejaVuSans-76\"/>\n     <use x=\"451.318359\" xlink:href=\"#DejaVuSans-97\"/>\n     <use x=\"512.597656\" xlink:href=\"#DejaVuSans-117\"/>\n     <use x=\"575.976562\" xlink:href=\"#DejaVuSans-110\"/>\n     <use x=\"639.355469\" xlink:href=\"#DejaVuSans-99\"/>\n     <use x=\"694.335938\" xlink:href=\"#DejaVuSans-104\"/>\n    </g>\n   </g>\n   <g id=\"patch_6\">\n    <path d=\"M 445.713678 253.003739 \nQ 476.605887 212.877084 508.180129 171.864521 \n\" style=\"fill:none;stroke:#000000;stroke-linecap:round;\"/>\n    <path d=\"M 449.328773 251.252751 \nL 445.713678 253.003739 \nL 446.481944 249.06107 \n\" style=\"fill:none;stroke:#000000;stroke-linecap:round;\"/>\n   </g>\n   <g id=\"text_3\">\n    <g id=\"patch_7\">\n     <path d=\"M 388.079208 302.02578 \nL 463.320792 302.02578 \nL 463.320792 255.97422 \nL 388.079208 255.97422 \nz\n\" style=\"fill:#399de5;stroke:#000000;stroke-linejoin:miter;\"/>\n    </g>\n    <!-- gini = 0.0 -->\n    <g transform=\"translate(403.747696 266.39181)scale(0.089819 -0.089819)\">\n     <use xlink:href=\"#DejaVuSans-103\"/>\n     <use x=\"63.476562\" xlink:href=\"#DejaVuSans-105\"/>\n     <use x=\"91.259766\" xlink:href=\"#DejaVuSans-110\"/>\n     <use x=\"154.638672\" xlink:href=\"#DejaVuSans-105\"/>\n     <use x=\"182.421875\" xlink:href=\"#DejaVuSans-32\"/>\n     <use x=\"214.208984\" xlink:href=\"#DejaVuSans-61\"/>\n     <use x=\"297.998047\" xlink:href=\"#DejaVuSans-32\"/>\n     <use x=\"329.785156\" xlink:href=\"#DejaVuSans-48\"/>\n     <use x=\"393.408203\" xlink:href=\"#DejaVuSans-46\"/>\n     <use x=\"425.195312\" xlink:href=\"#DejaVuSans-48\"/>\n    </g>\n    <!-- samples = 45 -->\n    <defs>\n     <path d=\"M 37.796875 64.3125 \nL 12.890625 25.390625 \nL 37.796875 25.390625 \nz\nM 35.203125 72.90625 \nL 47.609375 72.90625 \nL 47.609375 25.390625 \nL 58.015625 25.390625 \nL 58.015625 17.1875 \nL 47.609375 17.1875 \nL 47.609375 0 \nL 37.796875 0 \nL 37.796875 17.1875 \nL 4.890625 17.1875 \nL 4.890625 26.703125 \nz\n\" id=\"DejaVuSans-52\"/>\n     <path d=\"M 10.796875 72.90625 \nL 49.515625 72.90625 \nL 49.515625 64.59375 \nL 19.828125 64.59375 \nL 19.828125 46.734375 \nQ 21.96875 47.46875 24.109375 47.828125 \nQ 26.265625 48.1875 28.421875 48.1875 \nQ 40.625 48.1875 47.75 41.5 \nQ 54.890625 34.8125 54.890625 23.390625 \nQ 54.890625 11.625 47.5625 5.09375 \nQ 40.234375 -1.421875 26.90625 -1.421875 \nQ 22.3125 -1.421875 17.546875 -0.640625 \nQ 12.796875 0.140625 7.71875 1.703125 \nL 7.71875 11.625 \nQ 12.109375 9.234375 16.796875 8.0625 \nQ 21.484375 6.890625 26.703125 6.890625 \nQ 35.15625 6.890625 40.078125 11.328125 \nQ 45.015625 15.765625 45.015625 23.390625 \nQ 45.015625 31 40.078125 35.4375 \nQ 35.15625 39.890625 26.703125 39.890625 \nQ 22.75 39.890625 18.8125 39.015625 \nQ 14.890625 38.140625 10.796875 36.28125 \nz\n\" id=\"DejaVuSans-53\"/>\n    </defs>\n    <g transform=\"translate(394.699844 276.449564)scale(0.089819 -0.089819)\">\n     <use xlink:href=\"#DejaVuSans-115\"/>\n     <use x=\"52.099609\" xlink:href=\"#DejaVuSans-97\"/>\n     <use x=\"113.378906\" xlink:href=\"#DejaVuSans-109\"/>\n     <use x=\"210.791016\" xlink:href=\"#DejaVuSans-112\"/>\n     <use x=\"274.267578\" xlink:href=\"#DejaVuSans-108\"/>\n     <use x=\"302.050781\" xlink:href=\"#DejaVuSans-101\"/>\n     <use x=\"363.574219\" xlink:href=\"#DejaVuSans-115\"/>\n     <use x=\"415.673828\" xlink:href=\"#DejaVuSans-32\"/>\n     <use x=\"447.460938\" xlink:href=\"#DejaVuSans-61\"/>\n     <use x=\"531.25\" xlink:href=\"#DejaVuSans-32\"/>\n     <use x=\"563.037109\" xlink:href=\"#DejaVuSans-52\"/>\n     <use x=\"626.660156\" xlink:href=\"#DejaVuSans-53\"/>\n    </g>\n    <!-- value = [0, 45] -->\n    <g transform=\"translate(391.883881 286.507317)scale(0.089819 -0.089819)\">\n     <use xlink:href=\"#DejaVuSans-118\"/>\n     <use x=\"59.179688\" xlink:href=\"#DejaVuSans-97\"/>\n     <use x=\"120.458984\" xlink:href=\"#DejaVuSans-108\"/>\n     <use x=\"148.242188\" xlink:href=\"#DejaVuSans-117\"/>\n     <use x=\"211.621094\" xlink:href=\"#DejaVuSans-101\"/>\n     <use x=\"273.144531\" xlink:href=\"#DejaVuSans-32\"/>\n     <use x=\"304.931641\" xlink:href=\"#DejaVuSans-61\"/>\n     <use x=\"388.720703\" xlink:href=\"#DejaVuSans-32\"/>\n     <use x=\"420.507812\" xlink:href=\"#DejaVuSans-91\"/>\n     <use x=\"459.521484\" xlink:href=\"#DejaVuSans-48\"/>\n     <use x=\"523.144531\" xlink:href=\"#DejaVuSans-44\"/>\n     <use x=\"554.931641\" xlink:href=\"#DejaVuSans-32\"/>\n     <use x=\"586.71875\" xlink:href=\"#DejaVuSans-52\"/>\n     <use x=\"650.341797\" xlink:href=\"#DejaVuSans-53\"/>\n     <use x=\"713.964844\" xlink:href=\"#DejaVuSans-93\"/>\n    </g>\n    <!-- class = Launch -->\n    <g transform=\"translate(391.671964 296.565071)scale(0.089819 -0.089819)\">\n     <use xlink:href=\"#DejaVuSans-99\"/>\n     <use x=\"54.980469\" xlink:href=\"#DejaVuSans-108\"/>\n     <use x=\"82.763672\" xlink:href=\"#DejaVuSans-97\"/>\n     <use x=\"144.042969\" xlink:href=\"#DejaVuSans-115\"/>\n     <use x=\"196.142578\" xlink:href=\"#DejaVuSans-115\"/>\n     <use x=\"248.242188\" xlink:href=\"#DejaVuSans-32\"/>\n     <use x=\"280.029297\" xlink:href=\"#DejaVuSans-61\"/>\n     <use x=\"363.818359\" xlink:href=\"#DejaVuSans-32\"/>\n     <use x=\"395.605469\" xlink:href=\"#DejaVuSans-76\"/>\n     <use x=\"451.318359\" xlink:href=\"#DejaVuSans-97\"/>\n     <use x=\"512.597656\" xlink:href=\"#DejaVuSans-117\"/>\n     <use x=\"575.976562\" xlink:href=\"#DejaVuSans-110\"/>\n     <use x=\"639.355469\" xlink:href=\"#DejaVuSans-99\"/>\n     <use x=\"694.335938\" xlink:href=\"#DejaVuSans-104\"/>\n    </g>\n   </g>\n   <g id=\"patch_8\">\n    <path d=\"M 573.086322 253.003739 \nQ 542.194113 212.877084 510.619871 171.864521 \n\" style=\"fill:none;stroke:#000000;stroke-linecap:round;\"/>\n    <path d=\"M 572.318056 249.06107 \nL 573.086322 253.003739 \nL 569.471227 251.252751 \n\" style=\"fill:none;stroke:#000000;stroke-linecap:round;\"/>\n   </g>\n   <g id=\"text_4\">\n    <g id=\"patch_9\">\n     <path d=\"M 547.944243 302.02578 \nL 638.255757 302.02578 \nL 638.255757 255.97422 \nL 547.944243 255.97422 \nz\n\" style=\"fill:#e58139;stroke:#000000;stroke-linejoin:miter;\"/>\n    </g>\n    <!-- gini = 0.0 -->\n    <g transform=\"translate(571.147696 266.39181)scale(0.089819 -0.089819)\">\n     <use xlink:href=\"#DejaVuSans-103\"/>\n     <use x=\"63.476562\" xlink:href=\"#DejaVuSans-105\"/>\n     <use x=\"91.259766\" xlink:href=\"#DejaVuSans-110\"/>\n     <use x=\"154.638672\" xlink:href=\"#DejaVuSans-105\"/>\n     <use x=\"182.421875\" xlink:href=\"#DejaVuSans-32\"/>\n     <use x=\"214.208984\" xlink:href=\"#DejaVuSans-61\"/>\n     <use x=\"297.998047\" xlink:href=\"#DejaVuSans-32\"/>\n     <use x=\"329.785156\" xlink:href=\"#DejaVuSans-48\"/>\n     <use x=\"393.408203\" xlink:href=\"#DejaVuSans-46\"/>\n     <use x=\"425.195312\" xlink:href=\"#DejaVuSans-48\"/>\n    </g>\n    <!-- samples = 1 -->\n    <g transform=\"translate(564.957208 276.449564)scale(0.089819 -0.089819)\">\n     <use xlink:href=\"#DejaVuSans-115\"/>\n     <use x=\"52.099609\" xlink:href=\"#DejaVuSans-97\"/>\n     <use x=\"113.378906\" xlink:href=\"#DejaVuSans-109\"/>\n     <use x=\"210.791016\" xlink:href=\"#DejaVuSans-112\"/>\n     <use x=\"274.267578\" xlink:href=\"#DejaVuSans-108\"/>\n     <use x=\"302.050781\" xlink:href=\"#DejaVuSans-101\"/>\n     <use x=\"363.574219\" xlink:href=\"#DejaVuSans-115\"/>\n     <use x=\"415.673828\" xlink:href=\"#DejaVuSans-32\"/>\n     <use x=\"447.460938\" xlink:href=\"#DejaVuSans-61\"/>\n     <use x=\"531.25\" xlink:href=\"#DejaVuSans-32\"/>\n     <use x=\"563.037109\" xlink:href=\"#DejaVuSans-49\"/>\n    </g>\n    <!-- value = [1, 0] -->\n    <g transform=\"translate(562.141245 286.507317)scale(0.089819 -0.089819)\">\n     <use xlink:href=\"#DejaVuSans-118\"/>\n     <use x=\"59.179688\" xlink:href=\"#DejaVuSans-97\"/>\n     <use x=\"120.458984\" xlink:href=\"#DejaVuSans-108\"/>\n     <use x=\"148.242188\" xlink:href=\"#DejaVuSans-117\"/>\n     <use x=\"211.621094\" xlink:href=\"#DejaVuSans-101\"/>\n     <use x=\"273.144531\" xlink:href=\"#DejaVuSans-32\"/>\n     <use x=\"304.931641\" xlink:href=\"#DejaVuSans-61\"/>\n     <use x=\"388.720703\" xlink:href=\"#DejaVuSans-32\"/>\n     <use x=\"420.507812\" xlink:href=\"#DejaVuSans-91\"/>\n     <use x=\"459.521484\" xlink:href=\"#DejaVuSans-49\"/>\n     <use x=\"523.144531\" xlink:href=\"#DejaVuSans-44\"/>\n     <use x=\"554.931641\" xlink:href=\"#DejaVuSans-32\"/>\n     <use x=\"586.71875\" xlink:href=\"#DejaVuSans-48\"/>\n     <use x=\"650.341797\" xlink:href=\"#DejaVuSans-93\"/>\n    </g>\n    <!-- class = No Launch -->\n    <g transform=\"translate(551.536999 296.565071)scale(0.089819 -0.089819)\">\n     <use xlink:href=\"#DejaVuSans-99\"/>\n     <use x=\"54.980469\" xlink:href=\"#DejaVuSans-108\"/>\n     <use x=\"82.763672\" xlink:href=\"#DejaVuSans-97\"/>\n     <use x=\"144.042969\" xlink:href=\"#DejaVuSans-115\"/>\n     <use x=\"196.142578\" xlink:href=\"#DejaVuSans-115\"/>\n     <use x=\"248.242188\" xlink:href=\"#DejaVuSans-32\"/>\n     <use x=\"280.029297\" xlink:href=\"#DejaVuSans-61\"/>\n     <use x=\"363.818359\" xlink:href=\"#DejaVuSans-32\"/>\n     <use x=\"395.605469\" xlink:href=\"#DejaVuSans-78\"/>\n     <use x=\"470.410156\" xlink:href=\"#DejaVuSans-111\"/>\n     <use x=\"531.591797\" xlink:href=\"#DejaVuSans-32\"/>\n     <use x=\"563.378906\" xlink:href=\"#DejaVuSans-76\"/>\n     <use x=\"619.091797\" xlink:href=\"#DejaVuSans-97\"/>\n     <use x=\"680.371094\" xlink:href=\"#DejaVuSans-117\"/>\n     <use x=\"743.75\" xlink:href=\"#DejaVuSans-110\"/>\n     <use x=\"807.128906\" xlink:href=\"#DejaVuSans-99\"/>\n     <use x=\"862.109375\" xlink:href=\"#DejaVuSans-104\"/>\n    </g>\n   </g>\n   <g id=\"patch_10\">\n    <path d=\"M 221.181424 140.027118 \nQ 280.284001 101.642219 340.324217 62.648358 \n\" style=\"fill:none;stroke:#000000;stroke-linecap:round;\"/>\n    <path d=\"M 225.172923 139.576779 \nL 221.181424 140.027118 \nL 223.216052 136.563715 \n\" style=\"fill:none;stroke:#000000;stroke-linecap:round;\"/>\n   </g>\n   <g id=\"text_5\">\n    <g id=\"patch_11\">\n     <path d=\"M 120.486911 198.334657 \nL 228.713089 198.334657 \nL 228.713089 142.225343 \nL 120.486911 142.225343 \nz\n\" style=\"fill:#e5823a;stroke:#000000;stroke-linejoin:miter;\"/>\n    </g>\n    <!-- Wind Direction &lt;= 7.5 -->\n    <defs>\n     <path d=\"M 3.328125 72.90625 \nL 13.28125 72.90625 \nL 28.609375 11.28125 \nL 43.890625 72.90625 \nL 54.984375 72.90625 \nL 70.3125 11.28125 \nL 85.59375 72.90625 \nL 95.609375 72.90625 \nL 77.296875 0 \nL 64.890625 0 \nL 49.515625 63.28125 \nL 33.984375 0 \nL 21.578125 0 \nz\n\" id=\"DejaVuSans-87\"/>\n     <path d=\"M 45.40625 46.390625 \nL 45.40625 75.984375 \nL 54.390625 75.984375 \nL 54.390625 0 \nL 45.40625 0 \nL 45.40625 8.203125 \nQ 42.578125 3.328125 38.25 0.953125 \nQ 33.9375 -1.421875 27.875 -1.421875 \nQ 17.96875 -1.421875 11.734375 6.484375 \nQ 5.515625 14.40625 5.515625 27.296875 \nQ 5.515625 40.1875 11.734375 48.09375 \nQ 17.96875 56 27.875 56 \nQ 33.9375 56 38.25 53.625 \nQ 42.578125 51.265625 45.40625 46.390625 \nz\nM 14.796875 27.296875 \nQ 14.796875 17.390625 18.875 11.75 \nQ 22.953125 6.109375 30.078125 6.109375 \nQ 37.203125 6.109375 41.296875 11.75 \nQ 45.40625 17.390625 45.40625 27.296875 \nQ 45.40625 37.203125 41.296875 42.84375 \nQ 37.203125 48.484375 30.078125 48.484375 \nQ 22.953125 48.484375 18.875 42.84375 \nQ 14.796875 37.203125 14.796875 27.296875 \nz\n\" id=\"DejaVuSans-100\"/>\n     <path d=\"M 19.671875 64.796875 \nL 19.671875 8.109375 \nL 31.59375 8.109375 \nQ 46.6875 8.109375 53.6875 14.9375 \nQ 60.6875 21.78125 60.6875 36.53125 \nQ 60.6875 51.171875 53.6875 57.984375 \nQ 46.6875 64.796875 31.59375 64.796875 \nz\nM 9.8125 72.90625 \nL 30.078125 72.90625 \nQ 51.265625 72.90625 61.171875 64.09375 \nQ 71.09375 55.28125 71.09375 36.53125 \nQ 71.09375 17.671875 61.125 8.828125 \nQ 51.171875 0 30.078125 0 \nL 9.8125 0 \nz\n\" id=\"DejaVuSans-68\"/>\n     <path d=\"M 41.109375 46.296875 \nQ 39.59375 47.171875 37.8125 47.578125 \nQ 36.03125 48 33.890625 48 \nQ 26.265625 48 22.1875 43.046875 \nQ 18.109375 38.09375 18.109375 28.8125 \nL 18.109375 0 \nL 9.078125 0 \nL 9.078125 54.6875 \nL 18.109375 54.6875 \nL 18.109375 46.1875 \nQ 20.953125 51.171875 25.484375 53.578125 \nQ 30.03125 56 36.53125 56 \nQ 37.453125 56 38.578125 55.875 \nQ 39.703125 55.765625 41.0625 55.515625 \nz\n\" id=\"DejaVuSans-114\"/>\n     <path d=\"M 18.3125 70.21875 \nL 18.3125 54.6875 \nL 36.8125 54.6875 \nL 36.8125 47.703125 \nL 18.3125 47.703125 \nL 18.3125 18.015625 \nQ 18.3125 11.328125 20.140625 9.421875 \nQ 21.96875 7.515625 27.59375 7.515625 \nL 36.8125 7.515625 \nL 36.8125 0 \nL 27.59375 0 \nQ 17.1875 0 13.234375 3.875 \nQ 9.28125 7.765625 9.28125 18.015625 \nL 9.28125 47.703125 \nL 2.6875 47.703125 \nL 2.6875 54.6875 \nL 9.28125 54.6875 \nL 9.28125 70.21875 \nz\n\" id=\"DejaVuSans-116\"/>\n     <path d=\"M 73.1875 49.21875 \nL 22.796875 31.296875 \nL 73.1875 13.484375 \nL 73.1875 4.59375 \nL 10.59375 27.296875 \nL 10.59375 35.40625 \nL 73.1875 58.109375 \nz\n\" id=\"DejaVuSans-60\"/>\n     <path d=\"M 8.203125 72.90625 \nL 55.078125 72.90625 \nL 55.078125 68.703125 \nL 28.609375 0 \nL 18.3125 0 \nL 43.21875 64.59375 \nL 8.203125 64.59375 \nz\n\" id=\"DejaVuSans-55\"/>\n    </defs>\n    <g transform=\"translate(124.079668 152.642934)scale(0.089819 -0.089819)\">\n     <use xlink:href=\"#DejaVuSans-87\"/>\n     <use x=\"96.626953\" xlink:href=\"#DejaVuSans-105\"/>\n     <use x=\"124.410156\" xlink:href=\"#DejaVuSans-110\"/>\n     <use x=\"187.789062\" xlink:href=\"#DejaVuSans-100\"/>\n     <use x=\"251.265625\" xlink:href=\"#DejaVuSans-32\"/>\n     <use x=\"283.052734\" xlink:href=\"#DejaVuSans-68\"/>\n     <use x=\"360.054688\" xlink:href=\"#DejaVuSans-105\"/>\n     <use x=\"387.837891\" xlink:href=\"#DejaVuSans-114\"/>\n     <use x=\"426.701172\" xlink:href=\"#DejaVuSans-101\"/>\n     <use x=\"488.224609\" xlink:href=\"#DejaVuSans-99\"/>\n     <use x=\"543.205078\" xlink:href=\"#DejaVuSans-116\"/>\n     <use x=\"582.414062\" xlink:href=\"#DejaVuSans-105\"/>\n     <use x=\"610.197266\" xlink:href=\"#DejaVuSans-111\"/>\n     <use x=\"671.378906\" xlink:href=\"#DejaVuSans-110\"/>\n     <use x=\"734.757812\" xlink:href=\"#DejaVuSans-32\"/>\n     <use x=\"766.544922\" xlink:href=\"#DejaVuSans-60\"/>\n     <use x=\"850.333984\" xlink:href=\"#DejaVuSans-61\"/>\n     <use x=\"934.123047\" xlink:href=\"#DejaVuSans-32\"/>\n     <use x=\"965.910156\" xlink:href=\"#DejaVuSans-55\"/>\n     <use x=\"1029.533203\" xlink:href=\"#DejaVuSans-46\"/>\n     <use x=\"1061.320312\" xlink:href=\"#DejaVuSans-53\"/>\n    </g>\n    <!-- gini = 0.01 -->\n    <g transform=\"translate(149.790332 162.700687)scale(0.089819 -0.089819)\">\n     <use xlink:href=\"#DejaVuSans-103\"/>\n     <use x=\"63.476562\" xlink:href=\"#DejaVuSans-105\"/>\n     <use x=\"91.259766\" xlink:href=\"#DejaVuSans-110\"/>\n     <use x=\"154.638672\" xlink:href=\"#DejaVuSans-105\"/>\n     <use x=\"182.421875\" xlink:href=\"#DejaVuSans-32\"/>\n     <use x=\"214.208984\" xlink:href=\"#DejaVuSans-61\"/>\n     <use x=\"297.998047\" xlink:href=\"#DejaVuSans-32\"/>\n     <use x=\"329.785156\" xlink:href=\"#DejaVuSans-48\"/>\n     <use x=\"393.408203\" xlink:href=\"#DejaVuSans-46\"/>\n     <use x=\"425.195312\" xlink:href=\"#DejaVuSans-48\"/>\n     <use x=\"488.818359\" xlink:href=\"#DejaVuSans-49\"/>\n    </g>\n    <!-- samples = 194 -->\n    <g transform=\"translate(140.74248 172.758441)scale(0.089819 -0.089819)\">\n     <use xlink:href=\"#DejaVuSans-115\"/>\n     <use x=\"52.099609\" xlink:href=\"#DejaVuSans-97\"/>\n     <use x=\"113.378906\" xlink:href=\"#DejaVuSans-109\"/>\n     <use x=\"210.791016\" xlink:href=\"#DejaVuSans-112\"/>\n     <use x=\"274.267578\" xlink:href=\"#DejaVuSans-108\"/>\n     <use x=\"302.050781\" xlink:href=\"#DejaVuSans-101\"/>\n     <use x=\"363.574219\" xlink:href=\"#DejaVuSans-115\"/>\n     <use x=\"415.673828\" xlink:href=\"#DejaVuSans-32\"/>\n     <use x=\"447.460938\" xlink:href=\"#DejaVuSans-61\"/>\n     <use x=\"531.25\" xlink:href=\"#DejaVuSans-32\"/>\n     <use x=\"563.037109\" xlink:href=\"#DejaVuSans-49\"/>\n     <use x=\"626.660156\" xlink:href=\"#DejaVuSans-57\"/>\n     <use x=\"690.283203\" xlink:href=\"#DejaVuSans-52\"/>\n    </g>\n    <!-- value = [193, 1] -->\n    <g transform=\"translate(137.926517 182.816194)scale(0.089819 -0.089819)\">\n     <use xlink:href=\"#DejaVuSans-118\"/>\n     <use x=\"59.179688\" xlink:href=\"#DejaVuSans-97\"/>\n     <use x=\"120.458984\" xlink:href=\"#DejaVuSans-108\"/>\n     <use x=\"148.242188\" xlink:href=\"#DejaVuSans-117\"/>\n     <use x=\"211.621094\" xlink:href=\"#DejaVuSans-101\"/>\n     <use x=\"273.144531\" xlink:href=\"#DejaVuSans-32\"/>\n     <use x=\"304.931641\" xlink:href=\"#DejaVuSans-61\"/>\n     <use x=\"388.720703\" xlink:href=\"#DejaVuSans-32\"/>\n     <use x=\"420.507812\" xlink:href=\"#DejaVuSans-91\"/>\n     <use x=\"459.521484\" xlink:href=\"#DejaVuSans-49\"/>\n     <use x=\"523.144531\" xlink:href=\"#DejaVuSans-57\"/>\n     <use x=\"586.767578\" xlink:href=\"#DejaVuSans-51\"/>\n     <use x=\"650.390625\" xlink:href=\"#DejaVuSans-44\"/>\n     <use x=\"682.177734\" xlink:href=\"#DejaVuSans-32\"/>\n     <use x=\"713.964844\" xlink:href=\"#DejaVuSans-49\"/>\n     <use x=\"777.587891\" xlink:href=\"#DejaVuSans-93\"/>\n    </g>\n    <!-- class = No Launch -->\n    <g transform=\"translate(133.036999 192.873948)scale(0.089819 -0.089819)\">\n     <use xlink:href=\"#DejaVuSans-99\"/>\n     <use x=\"54.980469\" xlink:href=\"#DejaVuSans-108\"/>\n     <use x=\"82.763672\" xlink:href=\"#DejaVuSans-97\"/>\n     <use x=\"144.042969\" xlink:href=\"#DejaVuSans-115\"/>\n     <use x=\"196.142578\" xlink:href=\"#DejaVuSans-115\"/>\n     <use x=\"248.242188\" xlink:href=\"#DejaVuSans-32\"/>\n     <use x=\"280.029297\" xlink:href=\"#DejaVuSans-61\"/>\n     <use x=\"363.818359\" xlink:href=\"#DejaVuSans-32\"/>\n     <use x=\"395.605469\" xlink:href=\"#DejaVuSans-78\"/>\n     <use x=\"470.410156\" xlink:href=\"#DejaVuSans-111\"/>\n     <use x=\"531.591797\" xlink:href=\"#DejaVuSans-32\"/>\n     <use x=\"563.378906\" xlink:href=\"#DejaVuSans-76\"/>\n     <use x=\"619.091797\" xlink:href=\"#DejaVuSans-97\"/>\n     <use x=\"680.371094\" xlink:href=\"#DejaVuSans-117\"/>\n     <use x=\"743.75\" xlink:href=\"#DejaVuSans-110\"/>\n     <use x=\"807.128906\" xlink:href=\"#DejaVuSans-99\"/>\n     <use x=\"862.109375\" xlink:href=\"#DejaVuSans-104\"/>\n    </g>\n   </g>\n   <g id=\"patch_12\">\n    <path d=\"M 462.818576 140.027118 \nQ 403.715999 101.642219 343.675783 62.648358 \n\" style=\"fill:none;stroke:#000000;stroke-linecap:round;\"/>\n    <path d=\"M 460.783948 136.563715 \nL 462.818576 140.027118 \nL 458.827077 139.576779 \n\" style=\"fill:none;stroke:#000000;stroke-linecap:round;\"/>\n   </g>\n   <g id=\"text_6\">\n    <g id=\"patch_13\">\n     <path d=\"M 447.923164 198.334657 \nL 570.876836 198.334657 \nL 570.876836 142.225343 \nL 447.923164 142.225343 \nz\n\" style=\"fill:#3d9fe6;stroke:#000000;stroke-linejoin:miter;\"/>\n    </g>\n    <!-- Max Wind Speed &lt;= 30.5 -->\n    <defs>\n     <path d=\"M 9.8125 72.90625 \nL 24.515625 72.90625 \nL 43.109375 23.296875 \nL 61.8125 72.90625 \nL 76.515625 72.90625 \nL 76.515625 0 \nL 66.890625 0 \nL 66.890625 64.015625 \nL 48.09375 14.015625 \nL 38.1875 14.015625 \nL 19.390625 64.015625 \nL 19.390625 0 \nL 9.8125 0 \nz\n\" id=\"DejaVuSans-77\"/>\n     <path d=\"M 54.890625 54.6875 \nL 35.109375 28.078125 \nL 55.90625 0 \nL 45.3125 0 \nL 29.390625 21.484375 \nL 13.484375 0 \nL 2.875 0 \nL 24.125 28.609375 \nL 4.6875 54.6875 \nL 15.28125 54.6875 \nL 29.78125 35.203125 \nL 44.28125 54.6875 \nz\n\" id=\"DejaVuSans-120\"/>\n     <path d=\"M 53.515625 70.515625 \nL 53.515625 60.890625 \nQ 47.90625 63.578125 42.921875 64.890625 \nQ 37.9375 66.21875 33.296875 66.21875 \nQ 25.25 66.21875 20.875 63.09375 \nQ 16.5 59.96875 16.5 54.203125 \nQ 16.5 49.359375 19.40625 46.890625 \nQ 22.3125 44.4375 30.421875 42.921875 \nL 36.375 41.703125 \nQ 47.40625 39.59375 52.65625 34.296875 \nQ 57.90625 29 57.90625 20.125 \nQ 57.90625 9.515625 50.796875 4.046875 \nQ 43.703125 -1.421875 29.984375 -1.421875 \nQ 24.8125 -1.421875 18.96875 -0.25 \nQ 13.140625 0.921875 6.890625 3.21875 \nL 6.890625 13.375 \nQ 12.890625 10.015625 18.65625 8.296875 \nQ 24.421875 6.59375 29.984375 6.59375 \nQ 38.421875 6.59375 43.015625 9.90625 \nQ 47.609375 13.234375 47.609375 19.390625 \nQ 47.609375 24.75 44.3125 27.78125 \nQ 41.015625 30.8125 33.5 32.328125 \nL 27.484375 33.5 \nQ 16.453125 35.6875 11.515625 40.375 \nQ 6.59375 45.0625 6.59375 53.421875 \nQ 6.59375 63.09375 13.40625 68.65625 \nQ 20.21875 74.21875 32.171875 74.21875 \nQ 37.3125 74.21875 42.625 73.28125 \nQ 47.953125 72.359375 53.515625 70.515625 \nz\n\" id=\"DejaVuSans-83\"/>\n    </defs>\n    <g transform=\"translate(451.515921 152.642934)scale(0.089819 -0.089819)\">\n     <use xlink:href=\"#DejaVuSans-77\"/>\n     <use x=\"86.279297\" xlink:href=\"#DejaVuSans-97\"/>\n     <use x=\"147.558594\" xlink:href=\"#DejaVuSans-120\"/>\n     <use x=\"206.738281\" xlink:href=\"#DejaVuSans-32\"/>\n     <use x=\"238.525391\" xlink:href=\"#DejaVuSans-87\"/>\n     <use x=\"335.152344\" xlink:href=\"#DejaVuSans-105\"/>\n     <use x=\"362.935547\" xlink:href=\"#DejaVuSans-110\"/>\n     <use x=\"426.314453\" xlink:href=\"#DejaVuSans-100\"/>\n     <use x=\"489.791016\" xlink:href=\"#DejaVuSans-32\"/>\n     <use x=\"521.578125\" xlink:href=\"#DejaVuSans-83\"/>\n     <use x=\"585.054688\" xlink:href=\"#DejaVuSans-112\"/>\n     <use x=\"648.53125\" xlink:href=\"#DejaVuSans-101\"/>\n     <use x=\"710.054688\" xlink:href=\"#DejaVuSans-101\"/>\n     <use x=\"771.578125\" xlink:href=\"#DejaVuSans-100\"/>\n     <use x=\"835.054688\" xlink:href=\"#DejaVuSans-32\"/>\n     <use x=\"866.841797\" xlink:href=\"#DejaVuSans-60\"/>\n     <use x=\"950.630859\" xlink:href=\"#DejaVuSans-61\"/>\n     <use x=\"1034.419922\" xlink:href=\"#DejaVuSans-32\"/>\n     <use x=\"1066.207031\" xlink:href=\"#DejaVuSans-51\"/>\n     <use x=\"1129.830078\" xlink:href=\"#DejaVuSans-48\"/>\n     <use x=\"1193.453125\" xlink:href=\"#DejaVuSans-46\"/>\n     <use x=\"1225.240234\" xlink:href=\"#DejaVuSans-53\"/>\n    </g>\n    <!-- gini = 0.043 -->\n    <g transform=\"translate(481.732968 162.700687)scale(0.089819 -0.089819)\">\n     <use xlink:href=\"#DejaVuSans-103\"/>\n     <use x=\"63.476562\" xlink:href=\"#DejaVuSans-105\"/>\n     <use x=\"91.259766\" xlink:href=\"#DejaVuSans-110\"/>\n     <use x=\"154.638672\" xlink:href=\"#DejaVuSans-105\"/>\n     <use x=\"182.421875\" xlink:href=\"#DejaVuSans-32\"/>\n     <use x=\"214.208984\" xlink:href=\"#DejaVuSans-61\"/>\n     <use x=\"297.998047\" xlink:href=\"#DejaVuSans-32\"/>\n     <use x=\"329.785156\" xlink:href=\"#DejaVuSans-48\"/>\n     <use x=\"393.408203\" xlink:href=\"#DejaVuSans-46\"/>\n     <use x=\"425.195312\" xlink:href=\"#DejaVuSans-48\"/>\n     <use x=\"488.818359\" xlink:href=\"#DejaVuSans-52\"/>\n     <use x=\"552.441406\" xlink:href=\"#DejaVuSans-51\"/>\n    </g>\n    <!-- samples = 46 -->\n    <defs>\n     <path d=\"M 33.015625 40.375 \nQ 26.375 40.375 22.484375 35.828125 \nQ 18.609375 31.296875 18.609375 23.390625 \nQ 18.609375 15.53125 22.484375 10.953125 \nQ 26.375 6.390625 33.015625 6.390625 \nQ 39.65625 6.390625 43.53125 10.953125 \nQ 47.40625 15.53125 47.40625 23.390625 \nQ 47.40625 31.296875 43.53125 35.828125 \nQ 39.65625 40.375 33.015625 40.375 \nz\nM 52.59375 71.296875 \nL 52.59375 62.3125 \nQ 48.875 64.0625 45.09375 64.984375 \nQ 41.3125 65.921875 37.59375 65.921875 \nQ 27.828125 65.921875 22.671875 59.328125 \nQ 17.53125 52.734375 16.796875 39.40625 \nQ 19.671875 43.65625 24.015625 45.921875 \nQ 28.375 48.1875 33.59375 48.1875 \nQ 44.578125 48.1875 50.953125 41.515625 \nQ 57.328125 34.859375 57.328125 23.390625 \nQ 57.328125 12.15625 50.6875 5.359375 \nQ 44.046875 -1.421875 33.015625 -1.421875 \nQ 20.359375 -1.421875 13.671875 8.265625 \nQ 6.984375 17.96875 6.984375 36.375 \nQ 6.984375 53.65625 15.1875 63.9375 \nQ 23.390625 74.21875 37.203125 74.21875 \nQ 40.921875 74.21875 44.703125 73.484375 \nQ 48.484375 72.75 52.59375 71.296875 \nz\n\" id=\"DejaVuSans-54\"/>\n    </defs>\n    <g transform=\"translate(478.399844 172.758441)scale(0.089819 -0.089819)\">\n     <use xlink:href=\"#DejaVuSans-115\"/>\n     <use x=\"52.099609\" xlink:href=\"#DejaVuSans-97\"/>\n     <use x=\"113.378906\" xlink:href=\"#DejaVuSans-109\"/>\n     <use x=\"210.791016\" xlink:href=\"#DejaVuSans-112\"/>\n     <use x=\"274.267578\" xlink:href=\"#DejaVuSans-108\"/>\n     <use x=\"302.050781\" xlink:href=\"#DejaVuSans-101\"/>\n     <use x=\"363.574219\" xlink:href=\"#DejaVuSans-115\"/>\n     <use x=\"415.673828\" xlink:href=\"#DejaVuSans-32\"/>\n     <use x=\"447.460938\" xlink:href=\"#DejaVuSans-61\"/>\n     <use x=\"531.25\" xlink:href=\"#DejaVuSans-32\"/>\n     <use x=\"563.037109\" xlink:href=\"#DejaVuSans-52\"/>\n     <use x=\"626.660156\" xlink:href=\"#DejaVuSans-54\"/>\n    </g>\n    <!-- value = [1, 45] -->\n    <g transform=\"translate(475.583881 182.816194)scale(0.089819 -0.089819)\">\n     <use xlink:href=\"#DejaVuSans-118\"/>\n     <use x=\"59.179688\" xlink:href=\"#DejaVuSans-97\"/>\n     <use x=\"120.458984\" xlink:href=\"#DejaVuSans-108\"/>\n     <use x=\"148.242188\" xlink:href=\"#DejaVuSans-117\"/>\n     <use x=\"211.621094\" xlink:href=\"#DejaVuSans-101\"/>\n     <use x=\"273.144531\" xlink:href=\"#DejaVuSans-32\"/>\n     <use x=\"304.931641\" xlink:href=\"#DejaVuSans-61\"/>\n     <use x=\"388.720703\" xlink:href=\"#DejaVuSans-32\"/>\n     <use x=\"420.507812\" xlink:href=\"#DejaVuSans-91\"/>\n     <use x=\"459.521484\" xlink:href=\"#DejaVuSans-49\"/>\n     <use x=\"523.144531\" xlink:href=\"#DejaVuSans-44\"/>\n     <use x=\"554.931641\" xlink:href=\"#DejaVuSans-32\"/>\n     <use x=\"586.71875\" xlink:href=\"#DejaVuSans-52\"/>\n     <use x=\"650.341797\" xlink:href=\"#DejaVuSans-53\"/>\n     <use x=\"713.964844\" xlink:href=\"#DejaVuSans-93\"/>\n    </g>\n    <!-- class = Launch -->\n    <g transform=\"translate(475.371964 192.873948)scale(0.089819 -0.089819)\">\n     <use xlink:href=\"#DejaVuSans-99\"/>\n     <use x=\"54.980469\" xlink:href=\"#DejaVuSans-108\"/>\n     <use x=\"82.763672\" xlink:href=\"#DejaVuSans-97\"/>\n     <use x=\"144.042969\" xlink:href=\"#DejaVuSans-115\"/>\n     <use x=\"196.142578\" xlink:href=\"#DejaVuSans-115\"/>\n     <use x=\"248.242188\" xlink:href=\"#DejaVuSans-32\"/>\n     <use x=\"280.029297\" xlink:href=\"#DejaVuSans-61\"/>\n     <use x=\"363.818359\" xlink:href=\"#DejaVuSans-32\"/>\n     <use x=\"395.605469\" xlink:href=\"#DejaVuSans-76\"/>\n     <use x=\"451.318359\" xlink:href=\"#DejaVuSans-97\"/>\n     <use x=\"512.597656\" xlink:href=\"#DejaVuSans-117\"/>\n     <use x=\"575.976562\" xlink:href=\"#DejaVuSans-110\"/>\n     <use x=\"639.355469\" xlink:href=\"#DejaVuSans-99\"/>\n     <use x=\"694.335938\" xlink:href=\"#DejaVuSans-104\"/>\n    </g>\n   </g>\n   <g id=\"text_7\">\n    <g id=\"patch_14\">\n     <path d=\"M 258.048086 89.614657 \nL 425.951914 89.614657 \nL 425.951914 33.505343 \nL 258.048086 33.505343 \nz\n\" style=\"fill:#eb9f68;stroke:#000000;stroke-linejoin:miter;\"/>\n    </g>\n    <!-- Wind Speed at Launch Time &lt;= 1.0 -->\n    <defs>\n     <path d=\"M -0.296875 72.90625 \nL 61.375 72.90625 \nL 61.375 64.59375 \nL 35.5 64.59375 \nL 35.5 0 \nL 25.59375 0 \nL 25.59375 64.59375 \nL -0.296875 64.59375 \nz\n\" id=\"DejaVuSans-84\"/>\n    </defs>\n    <g transform=\"translate(261.640843 43.922934)scale(0.089819 -0.089819)\">\n     <use xlink:href=\"#DejaVuSans-87\"/>\n     <use x=\"96.626953\" xlink:href=\"#DejaVuSans-105\"/>\n     <use x=\"124.410156\" xlink:href=\"#DejaVuSans-110\"/>\n     <use x=\"187.789062\" xlink:href=\"#DejaVuSans-100\"/>\n     <use x=\"251.265625\" xlink:href=\"#DejaVuSans-32\"/>\n     <use x=\"283.052734\" xlink:href=\"#DejaVuSans-83\"/>\n     <use x=\"346.529297\" xlink:href=\"#DejaVuSans-112\"/>\n     <use x=\"410.005859\" xlink:href=\"#DejaVuSans-101\"/>\n     <use x=\"471.529297\" xlink:href=\"#DejaVuSans-101\"/>\n     <use x=\"533.052734\" xlink:href=\"#DejaVuSans-100\"/>\n     <use x=\"596.529297\" xlink:href=\"#DejaVuSans-32\"/>\n     <use x=\"628.316406\" xlink:href=\"#DejaVuSans-97\"/>\n     <use x=\"689.595703\" xlink:href=\"#DejaVuSans-116\"/>\n     <use x=\"728.804688\" xlink:href=\"#DejaVuSans-32\"/>\n     <use x=\"760.591797\" xlink:href=\"#DejaVuSans-76\"/>\n     <use x=\"816.304688\" xlink:href=\"#DejaVuSans-97\"/>\n     <use x=\"877.583984\" xlink:href=\"#DejaVuSans-117\"/>\n     <use x=\"940.962891\" xlink:href=\"#DejaVuSans-110\"/>\n     <use x=\"1004.341797\" xlink:href=\"#DejaVuSans-99\"/>\n     <use x=\"1059.322266\" xlink:href=\"#DejaVuSans-104\"/>\n     <use x=\"1122.701172\" xlink:href=\"#DejaVuSans-32\"/>\n     <use x=\"1154.488281\" xlink:href=\"#DejaVuSans-84\"/>\n     <use x=\"1212.447266\" xlink:href=\"#DejaVuSans-105\"/>\n     <use x=\"1240.230469\" xlink:href=\"#DejaVuSans-109\"/>\n     <use x=\"1337.642578\" xlink:href=\"#DejaVuSans-101\"/>\n     <use x=\"1399.166016\" xlink:href=\"#DejaVuSans-32\"/>\n     <use x=\"1430.953125\" xlink:href=\"#DejaVuSans-60\"/>\n     <use x=\"1514.742188\" xlink:href=\"#DejaVuSans-61\"/>\n     <use x=\"1598.53125\" xlink:href=\"#DejaVuSans-32\"/>\n     <use x=\"1630.318359\" xlink:href=\"#DejaVuSans-49\"/>\n     <use x=\"1693.941406\" xlink:href=\"#DejaVuSans-46\"/>\n     <use x=\"1725.728516\" xlink:href=\"#DejaVuSans-48\"/>\n    </g>\n    <!-- gini = 0.31 -->\n    <g transform=\"translate(317.190332 53.980687)scale(0.089819 -0.089819)\">\n     <use xlink:href=\"#DejaVuSans-103\"/>\n     <use x=\"63.476562\" xlink:href=\"#DejaVuSans-105\"/>\n     <use x=\"91.259766\" xlink:href=\"#DejaVuSans-110\"/>\n     <use x=\"154.638672\" xlink:href=\"#DejaVuSans-105\"/>\n     <use x=\"182.421875\" xlink:href=\"#DejaVuSans-32\"/>\n     <use x=\"214.208984\" xlink:href=\"#DejaVuSans-61\"/>\n     <use x=\"297.998047\" xlink:href=\"#DejaVuSans-32\"/>\n     <use x=\"329.785156\" xlink:href=\"#DejaVuSans-48\"/>\n     <use x=\"393.408203\" xlink:href=\"#DejaVuSans-46\"/>\n     <use x=\"425.195312\" xlink:href=\"#DejaVuSans-51\"/>\n     <use x=\"488.818359\" xlink:href=\"#DejaVuSans-49\"/>\n    </g>\n    <!-- samples = 240 -->\n    <defs>\n     <path d=\"M 19.1875 8.296875 \nL 53.609375 8.296875 \nL 53.609375 0 \nL 7.328125 0 \nL 7.328125 8.296875 \nQ 12.9375 14.109375 22.625 23.890625 \nQ 32.328125 33.6875 34.8125 36.53125 \nQ 39.546875 41.84375 41.421875 45.53125 \nQ 43.3125 49.21875 43.3125 52.78125 \nQ 43.3125 58.59375 39.234375 62.25 \nQ 35.15625 65.921875 28.609375 65.921875 \nQ 23.96875 65.921875 18.8125 64.3125 \nQ 13.671875 62.703125 7.8125 59.421875 \nL 7.8125 69.390625 \nQ 13.765625 71.78125 18.9375 73 \nQ 24.125 74.21875 28.421875 74.21875 \nQ 39.75 74.21875 46.484375 68.546875 \nQ 53.21875 62.890625 53.21875 53.421875 \nQ 53.21875 48.921875 51.53125 44.890625 \nQ 49.859375 40.875 45.40625 35.40625 \nQ 44.1875 33.984375 37.640625 27.21875 \nQ 31.109375 20.453125 19.1875 8.296875 \nz\n\" id=\"DejaVuSans-50\"/>\n    </defs>\n    <g transform=\"translate(308.14248 64.038441)scale(0.089819 -0.089819)\">\n     <use xlink:href=\"#DejaVuSans-115\"/>\n     <use x=\"52.099609\" xlink:href=\"#DejaVuSans-97\"/>\n     <use x=\"113.378906\" xlink:href=\"#DejaVuSans-109\"/>\n     <use x=\"210.791016\" xlink:href=\"#DejaVuSans-112\"/>\n     <use x=\"274.267578\" xlink:href=\"#DejaVuSans-108\"/>\n     <use x=\"302.050781\" xlink:href=\"#DejaVuSans-101\"/>\n     <use x=\"363.574219\" xlink:href=\"#DejaVuSans-115\"/>\n     <use x=\"415.673828\" xlink:href=\"#DejaVuSans-32\"/>\n     <use x=\"447.460938\" xlink:href=\"#DejaVuSans-61\"/>\n     <use x=\"531.25\" xlink:href=\"#DejaVuSans-32\"/>\n     <use x=\"563.037109\" xlink:href=\"#DejaVuSans-50\"/>\n     <use x=\"626.660156\" xlink:href=\"#DejaVuSans-52\"/>\n     <use x=\"690.283203\" xlink:href=\"#DejaVuSans-48\"/>\n    </g>\n    <!-- value = [194, 46] -->\n    <g transform=\"translate(302.469152 74.096194)scale(0.089819 -0.089819)\">\n     <use xlink:href=\"#DejaVuSans-118\"/>\n     <use x=\"59.179688\" xlink:href=\"#DejaVuSans-97\"/>\n     <use x=\"120.458984\" xlink:href=\"#DejaVuSans-108\"/>\n     <use x=\"148.242188\" xlink:href=\"#DejaVuSans-117\"/>\n     <use x=\"211.621094\" xlink:href=\"#DejaVuSans-101\"/>\n     <use x=\"273.144531\" xlink:href=\"#DejaVuSans-32\"/>\n     <use x=\"304.931641\" xlink:href=\"#DejaVuSans-61\"/>\n     <use x=\"388.720703\" xlink:href=\"#DejaVuSans-32\"/>\n     <use x=\"420.507812\" xlink:href=\"#DejaVuSans-91\"/>\n     <use x=\"459.521484\" xlink:href=\"#DejaVuSans-49\"/>\n     <use x=\"523.144531\" xlink:href=\"#DejaVuSans-57\"/>\n     <use x=\"586.767578\" xlink:href=\"#DejaVuSans-52\"/>\n     <use x=\"650.390625\" xlink:href=\"#DejaVuSans-44\"/>\n     <use x=\"682.177734\" xlink:href=\"#DejaVuSans-32\"/>\n     <use x=\"713.964844\" xlink:href=\"#DejaVuSans-52\"/>\n     <use x=\"777.587891\" xlink:href=\"#DejaVuSans-54\"/>\n     <use x=\"841.210938\" xlink:href=\"#DejaVuSans-93\"/>\n    </g>\n    <!-- class = No Launch -->\n    <g transform=\"translate(300.436999 84.153948)scale(0.089819 -0.089819)\">\n     <use xlink:href=\"#DejaVuSans-99\"/>\n     <use x=\"54.980469\" xlink:href=\"#DejaVuSans-108\"/>\n     <use x=\"82.763672\" xlink:href=\"#DejaVuSans-97\"/>\n     <use x=\"144.042969\" xlink:href=\"#DejaVuSans-115\"/>\n     <use x=\"196.142578\" xlink:href=\"#DejaVuSans-115\"/>\n     <use x=\"248.242188\" xlink:href=\"#DejaVuSans-32\"/>\n     <use x=\"280.029297\" xlink:href=\"#DejaVuSans-61\"/>\n     <use x=\"363.818359\" xlink:href=\"#DejaVuSans-32\"/>\n     <use x=\"395.605469\" xlink:href=\"#DejaVuSans-78\"/>\n     <use x=\"470.410156\" xlink:href=\"#DejaVuSans-111\"/>\n     <use x=\"531.591797\" xlink:href=\"#DejaVuSans-32\"/>\n     <use x=\"563.378906\" xlink:href=\"#DejaVuSans-76\"/>\n     <use x=\"619.091797\" xlink:href=\"#DejaVuSans-97\"/>\n     <use x=\"680.371094\" xlink:href=\"#DejaVuSans-117\"/>\n     <use x=\"743.75\" xlink:href=\"#DejaVuSans-110\"/>\n     <use x=\"807.128906\" xlink:href=\"#DejaVuSans-99\"/>\n     <use x=\"862.109375\" xlink:href=\"#DejaVuSans-104\"/>\n    </g>\n   </g>\n  </g>\n </g>\n</svg>\n",
      "image/png": "[encoded data removed]"
     },
     "metadata": {
      "needs_background": "light"
     }
    }
   ],
   "source": [
    "# plot tree\n",
    "plt.figure(figsize=(12,6))  # set plot size \n",
    "tree.plot_tree(tree_model, feature_names = X.columns.values, class_names= ['No Launch','Launch'], filled = True)"
   ]
  },
  {
   "source": [
    "Overall, when we look at the dataset, we have 240 samples:\n",
    "\n",
    "* 194 are no launches\n",
    "* 46 are launches"
   ],
   "cell_type": "markdown",
   "metadata": {}
  },
  {
   "source": [
    "This simple tree shows you that the most important feature of the data was <code>Wind Speed at Launch Time</code>. If the wind speed was less than 1.0, then 194 of the 240 samples were correctly guessed to be no launch. We see that 194 of those samples only needed the <code>Wind Speed at Launch Time</code> value to be less than 1.0 to correctly guess the outcome, while above 1.0 required more information.\n",
    "\n",
    "This insight isn't good. We previously set all values that were empty to 0. We also know that many of the values that were related to the time of launch were 0 because 60% of our data wasn't related to an actual launch or attempted launch.\n",
    "\n",
    "As you continue to look at the tree, you can see that <code>Max Wind Speed</code> is the next most important feature of the data. Here, you can see that of the remaining 46 days when the max wind speed was less than 30.5, 45 of the days yielded a correct launch output and one of them yielded a no-launch output.\n",
    "\n",
    "This data might be more interesting with some real-world context. There was only one day where a launch was planned and the <code>Max Wind Speed</code> value was greater than 30.5, which was May 27, 2020. The Space X Dragon launch was then postponed to May 30, 2020. Here's the evidence:"
   ],
   "cell_type": "markdown",
   "metadata": {}
  },
  {
   "cell_type": "code",
   "execution_count": 20,
   "metadata": {},
   "outputs": [
    {
     "output_type": "execute_result",
     "data": {
      "text/plain": [
       "               Name       Date Time (East Coast)        Location  \\\n",
       "292  Space X Dragon 2020-05-27          16:33:00  Cape Canaveral   \n",
       "\n",
       "     Crewed or Uncrewed Launched?  High Temp  Low Temp  Ave Temp  \\\n",
       "292                   0         N       86.0      70.0     75.02   \n",
       "\n",
       "     Temp at Launch Time  ...  Max Wind Speed  Visibility  \\\n",
       "292                 74.0  ...            32.0        10.0   \n",
       "\n",
       "     Wind Speed at Launch Time  Hist Ave Max Wind Speed  Hist Ave Visibility  \\\n",
       "292                       25.0                      0.0                  0.0   \n",
       "\n",
       "     Sea Level Pressure  Hist Ave Sea Level Pressure  Day Length  Condition  \\\n",
       "292               29.98                          0.0    13:44:00          2   \n",
       "\n",
       "     Notes  \n",
       "292      0  \n",
       "\n",
       "[1 rows x 26 columns]"
      ],
      "text/html": "<div>\n<style scoped>\n    .dataframe tbody tr th:only-of-type {\n        vertical-align: middle;\n    }\n\n    .dataframe tbody tr th {\n        vertical-align: top;\n    }\n\n    .dataframe thead th {\n        text-align: right;\n    }\n</style>\n<table border=\"1\" class=\"dataframe\">\n  <thead>\n    <tr style=\"text-align: right;\">\n      <th></th>\n      <th>Name</th>\n      <th>Date</th>\n      <th>Time (East Coast)</th>\n      <th>Location</th>\n      <th>Crewed or Uncrewed</th>\n      <th>Launched?</th>\n      <th>High Temp</th>\n      <th>Low Temp</th>\n      <th>Ave Temp</th>\n      <th>Temp at Launch Time</th>\n      <th>...</th>\n      <th>Max Wind Speed</th>\n      <th>Visibility</th>\n      <th>Wind Speed at Launch Time</th>\n      <th>Hist Ave Max Wind Speed</th>\n      <th>Hist Ave Visibility</th>\n      <th>Sea Level Pressure</th>\n      <th>Hist Ave Sea Level Pressure</th>\n      <th>Day Length</th>\n      <th>Condition</th>\n      <th>Notes</th>\n    </tr>\n  </thead>\n  <tbody>\n    <tr>\n      <th>292</th>\n      <td>Space X Dragon</td>\n      <td>2020-05-27</td>\n      <td>16:33:00</td>\n      <td>Cape Canaveral</td>\n      <td>0</td>\n      <td>N</td>\n      <td>86.0</td>\n      <td>70.0</td>\n      <td>75.02</td>\n      <td>74.0</td>\n      <td>...</td>\n      <td>32.0</td>\n      <td>10.0</td>\n      <td>25.0</td>\n      <td>0.0</td>\n      <td>0.0</td>\n      <td>29.98</td>\n      <td>0.0</td>\n      <td>13:44:00</td>\n      <td>2</td>\n      <td>0</td>\n    </tr>\n  </tbody>\n</table>\n<p>1 rows × 26 columns</p>\n</div>"
     },
     "metadata": {},
     "execution_count": 20
    }
   ],
   "source": [
    "launch_data[(launch_data['Wind Speed at Launch Time'] > 1) & (launch_data['Max Wind Speed'] > 30.5)]"
   ]
  },
  {
   "source": [
    "With this visualization, you could see that some features became important. But this emphasis was based on incorrect information. One improvement that could be made is to determine the relationship between <code>Max Wind Speed</code> and <code>Wind Speed at Launch Time</code> for the rows that have that information. Then, instead of making <code>Wind Speed at Launch Time</code> 0 for non-launch days, it could have been made to be the estimate of what it would be at a common launch time. This change might have represented the data better."
   ],
   "cell_type": "markdown",
   "metadata": {}
  },
  {
   "cell_type": "code",
   "execution_count": 21,
   "metadata": {},
   "outputs": [
    {
     "output_type": "execute_result",
     "data": {
      "text/plain": [
       "array(['N'], dtype=object)"
      ]
     },
     "metadata": {},
     "execution_count": 21
    }
   ],
   "source": [
    "# ['Crewed or Uncrewed', 'High Temp', 'Low Temp', 'Ave Temp',\n",
    "#        'Temp at Launch Time', 'Hist High Temp', 'Hist Low Temp',\n",
    "#        'Hist Ave Temp', 'Precipitation at Launch Time',\n",
    "#        'Hist Ave Precipitation', 'Wind Direction', 'Max Wind Speed',\n",
    "#        'Visibility', 'Wind Speed at Launch Time', 'Hist Ave Max Wind Speed',\n",
    "#        'Hist Ave Visibility', 'Condition']\n",
    "\n",
    "data_input = [ 1.  , 75.  , 68.  , 71.  ,  0.  , 75.  , 55.  , 65.  ,  0.  , 0.08,  0.  , 10.  , 15.  ,  0.  ,  0. ]\n",
    "\n",
    "tree_model.predict([data_input])"
   ]
  },
  {
   "cell_type": "code",
   "execution_count": null,
   "metadata": {},
   "outputs": [],
   "source": []
  }
 ]
}